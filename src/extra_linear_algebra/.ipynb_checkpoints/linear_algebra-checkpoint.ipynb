{
 "cells": [
  {
   "cell_type": "markdown",
   "id": "f804d8cc2b5cdc99",
   "metadata": {},
   "source": [
    "# Linear Algebra - Chapter 4 (Data Science From Scratch)"
   ]
  },
  {
   "cell_type": "code",
   "execution_count": 1,
   "id": "8854f9d1957f154a",
   "metadata": {
    "ExecuteTime": {
     "end_time": "2024-12-17T21:45:11.690801Z",
     "start_time": "2024-12-17T21:45:11.082580Z"
    }
   },
   "outputs": [],
   "source": [
    "import numpy as np"
   ]
  },
  {
   "cell_type": "markdown",
   "id": "656aa7519c796cb9",
   "metadata": {},
   "source": [
    "## Vector"
   ]
  },
  {
   "cell_type": "markdown",
   "id": "722961b8a6a49663",
   "metadata": {},
   "source": [
    "Vectors are line segments used to represent a vector space, which is an oriented line segment with magnitude, direction and direction. A vector is represented with three coordinates, x, y and z. <br>\n",
    "We can also think of a vector as a list, as attributes, a column, a 3d space vector, etc."
   ]
  },
  {
   "cell_type": "code",
   "execution_count": 2,
   "id": "9756f89434da50e8",
   "metadata": {
    "ExecuteTime": {
     "end_time": "2024-12-17T21:45:11.710641Z",
     "start_time": "2024-12-17T21:45:11.705344Z"
    }
   },
   "outputs": [],
   "source": [
    "vector_3d = np.array([1,2,3]) #space vector\n",
    "grades = np.array([4,5,5,6,7,8,10]) #list\n",
    "person_attr = np.array([1.75, 70, 24]) #h, w, age"
   ]
  },
  {
   "cell_type": "markdown",
   "id": "af1f4a184a6d2afa",
   "metadata": {},
   "source": [
    "### Operations"
   ]
  },
  {
   "cell_type": "markdown",
   "id": "f2b31d603f2e89dc",
   "metadata": {},
   "source": [
    "All these operations are done component-wise and produce a new vector, e.g.: V1x + V2x; V1y + V2y ..."
   ]
  },
  {
   "cell_type": "code",
   "execution_count": 3,
   "id": "a9389471800018e1",
   "metadata": {
    "ExecuteTime": {
     "end_time": "2024-12-17T21:45:12.895385Z",
     "start_time": "2024-12-17T21:45:12.885739Z"
    }
   },
   "outputs": [
    {
     "data": {
      "text/plain": [
       "array([5, 7, 9])"
      ]
     },
     "execution_count": 3,
     "metadata": {},
     "output_type": "execute_result"
    }
   ],
   "source": [
    "np.array([1,2,3]) + np.array([4,5,6])"
   ]
  },
  {
   "cell_type": "code",
   "execution_count": 4,
   "id": "bd24d89983531deb",
   "metadata": {
    "ExecuteTime": {
     "end_time": "2024-12-17T21:45:13.081734Z",
     "start_time": "2024-12-17T21:45:13.075660Z"
    }
   },
   "outputs": [
    {
     "data": {
      "text/plain": [
       "array([-3, -3, -3])"
      ]
     },
     "execution_count": 4,
     "metadata": {},
     "output_type": "execute_result"
    }
   ],
   "source": [
    "np.array([1,2,3]) - np.array([4,5,6])"
   ]
  },
  {
   "cell_type": "code",
   "execution_count": 5,
   "id": "dedd6deb3bb41cf9",
   "metadata": {
    "ExecuteTime": {
     "end_time": "2024-12-17T21:45:13.271348Z",
     "start_time": "2024-12-17T21:45:13.264333Z"
    }
   },
   "outputs": [
    {
     "data": {
      "text/plain": [
       "array([ 4,  8, 12])"
      ]
     },
     "execution_count": 5,
     "metadata": {},
     "output_type": "execute_result"
    }
   ],
   "source": [
    "np.array([1,2,3]) * 4"
   ]
  },
  {
   "cell_type": "code",
   "execution_count": 6,
   "id": "9130f8de9b3ef618",
   "metadata": {
    "ExecuteTime": {
     "end_time": "2024-12-17T21:45:13.460194Z",
     "start_time": "2024-12-17T21:45:13.452334Z"
    }
   },
   "outputs": [
    {
     "data": {
      "text/plain": [
       "array([2.5, 3.5, 4.5])"
      ]
     },
     "execution_count": 6,
     "metadata": {},
     "output_type": "execute_result"
    }
   ],
   "source": [
    "(np.array([1,2,3]) + np.array([4,5,6]))/2"
   ]
  },
  {
   "cell_type": "markdown",
   "id": "8db245008e070210",
   "metadata": {},
   "source": [
    "### TODO -> dot product"
   ]
  },
  {
   "cell_type": "markdown",
   "id": "bdf57930c963f730",
   "metadata": {},
   "source": []
  },
  {
   "cell_type": "code",
   "execution_count": 7,
   "id": "f56607a680cf838",
   "metadata": {
    "ExecuteTime": {
     "end_time": "2024-12-17T21:45:13.648236Z",
     "start_time": "2024-12-17T21:45:13.640961Z"
    }
   },
   "outputs": [
    {
     "data": {
      "text/plain": [
       "32"
      ]
     },
     "execution_count": 7,
     "metadata": {},
     "output_type": "execute_result"
    }
   ],
   "source": [
    "np.dot(np.array([1,2,3]), np.array([4,5,6]))"
   ]
  },
  {
   "cell_type": "markdown",
   "id": "c195184b1c415278",
   "metadata": {},
   "source": [
    "### TODO -> array projection"
   ]
  },
  {
   "cell_type": "markdown",
   "id": "4bdf2d71c5bf9a60",
   "metadata": {},
   "source": []
  },
  {
   "cell_type": "code",
   "execution_count": 8,
   "id": "af6d195089d8e9ff",
   "metadata": {
    "ExecuteTime": {
     "end_time": "2024-12-17T22:07:11.040668Z",
     "start_time": "2024-12-17T22:07:10.890243Z"
    }
   },
   "outputs": [
    {
     "name": "stdout",
     "output_type": "stream",
     "text": [
      "1\n",
      "2\n",
      "3\n"
     ]
    }
   ],
   "source": [
    "#array projection - each axis\n",
    "print(np.dot(np.array([1,2,3]), np.array([1,0,0])))\n",
    "print(np.dot(np.array([1,2,3]), np.array([0,1,0])))\n",
    "print(np.dot(np.array([1,2,3]), np.array([0,0,1])))"
   ]
  },
  {
   "cell_type": "markdown",
   "id": "a8bbed32edc4af52",
   "metadata": {},
   "source": [
    "### TODO -> sum of squares"
   ]
  },
  {
   "cell_type": "markdown",
   "id": "9aa47d698970b2e1",
   "metadata": {},
   "source": []
  },
  {
   "cell_type": "code",
   "execution_count": 9,
   "id": "50046ee8bc65088f",
   "metadata": {
    "ExecuteTime": {
     "end_time": "2024-12-17T22:07:51.208131Z",
     "start_time": "2024-12-17T22:07:51.197387Z"
    }
   },
   "outputs": [
    {
     "data": {
      "text/plain": [
       "14"
      ]
     },
     "execution_count": 9,
     "metadata": {},
     "output_type": "execute_result"
    }
   ],
   "source": [
    "#Sum of squares\n",
    "vector = np.array([1,2,3])\n",
    "np.dot(vector, vector)"
   ]
  }
 ],
 "metadata": {
  "kernelspec": {
   "display_name": "Python 3 (ipykernel)",
   "language": "python",
   "name": "python3"
  },
  "language_info": {
   "codemirror_mode": {
    "name": "ipython",
    "version": 3
   },
   "file_extension": ".py",
   "mimetype": "text/x-python",
   "name": "python",
   "nbconvert_exporter": "python",
   "pygments_lexer": "ipython3",
   "version": "3.12.5"
  }
 },
 "nbformat": 4,
 "nbformat_minor": 5
}
