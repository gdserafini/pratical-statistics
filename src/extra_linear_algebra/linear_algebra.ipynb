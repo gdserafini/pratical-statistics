{
 "cells": [
  {
   "metadata": {},
   "cell_type": "markdown",
   "source": "# Linear Algebra - Chapter 4 (Data Science From Scratch)",
   "id": "f804d8cc2b5cdc99"
  },
  {
   "metadata": {
    "ExecuteTime": {
     "end_time": "2024-12-17T21:45:11.690801Z",
     "start_time": "2024-12-17T21:45:11.082580Z"
    }
   },
   "cell_type": "code",
   "source": "import numpy as np",
   "id": "8854f9d1957f154a",
   "outputs": [],
   "execution_count": 1
  },
  {
   "metadata": {},
   "cell_type": "markdown",
   "source": "## Vector",
   "id": "656aa7519c796cb9"
  },
  {
   "metadata": {},
   "cell_type": "markdown",
   "source": [
    "Vectors are line segments used to represent a vector space, which is an oriented line segment with magnitude, direction and direction. A vector is represented with three coordinates, x, y and z. <br>\n",
    "We can also think of a vector as a list, as attributes, a column, a 3d space vector, etc."
   ],
   "id": "722961b8a6a49663"
  },
  {
   "metadata": {
    "ExecuteTime": {
     "end_time": "2024-12-17T21:45:11.710641Z",
     "start_time": "2024-12-17T21:45:11.705344Z"
    }
   },
   "cell_type": "code",
   "source": [
    "vector_3d = np.array([1,2,3]) #space vector\n",
    "grades = np.array([4,5,5,6,7,8,10])\n",
    "person_attr = np.array([1.75, 70, 24]) #h, w, age"
   ],
   "id": "9756f89434da50e8",
   "outputs": [],
   "execution_count": 2
  },
  {
   "metadata": {},
   "cell_type": "markdown",
   "source": "### Operations -> Add, Sub and scalar mult",
   "id": "af1f4a184a6d2afa"
  },
  {
   "metadata": {},
   "cell_type": "markdown",
   "source": "All these operations are done component-wise and produce a new vector, e.g.: V1x + V2x; V1y + V2y ...",
   "id": "f2b31d603f2e89dc"
  },
  {
   "metadata": {
    "ExecuteTime": {
     "end_time": "2024-12-17T21:45:12.895385Z",
     "start_time": "2024-12-17T21:45:12.885739Z"
    }
   },
   "cell_type": "code",
   "source": "np.array([1,2,3]) + np.array([4,5,6])",
   "id": "a9389471800018e1",
   "outputs": [
    {
     "data": {
      "text/plain": [
       "array([5, 7, 9])"
      ]
     },
     "execution_count": 3,
     "metadata": {},
     "output_type": "execute_result"
    }
   ],
   "execution_count": 3
  },
  {
   "metadata": {
    "ExecuteTime": {
     "end_time": "2024-12-17T21:45:13.081734Z",
     "start_time": "2024-12-17T21:45:13.075660Z"
    }
   },
   "cell_type": "code",
   "source": "np.array([1,2,3]) - np.array([4,5,6])",
   "id": "bd24d89983531deb",
   "outputs": [
    {
     "data": {
      "text/plain": [
       "array([-3, -3, -3])"
      ]
     },
     "execution_count": 4,
     "metadata": {},
     "output_type": "execute_result"
    }
   ],
   "execution_count": 4
  },
  {
   "metadata": {
    "ExecuteTime": {
     "end_time": "2024-12-17T21:45:13.271348Z",
     "start_time": "2024-12-17T21:45:13.264333Z"
    }
   },
   "cell_type": "code",
   "source": "np.array([1,2,3]) * 4",
   "id": "dedd6deb3bb41cf9",
   "outputs": [
    {
     "data": {
      "text/plain": [
       "array([ 4,  8, 12])"
      ]
     },
     "execution_count": 5,
     "metadata": {},
     "output_type": "execute_result"
    }
   ],
   "execution_count": 5
  },
  {
   "metadata": {},
   "cell_type": "markdown",
   "source": "### TODO -> arrays mean",
   "id": "f12e1dce61f13004"
  },
  {
   "metadata": {
    "ExecuteTime": {
     "end_time": "2024-12-17T21:45:13.460194Z",
     "start_time": "2024-12-17T21:45:13.452334Z"
    }
   },
   "cell_type": "code",
   "source": "(np.array([1,2,3]) + np.array([4,5,6]))/2",
   "id": "9130f8de9b3ef618",
   "outputs": [
    {
     "data": {
      "text/plain": [
       "array([2.5, 3.5, 4.5])"
      ]
     },
     "execution_count": 6,
     "metadata": {},
     "output_type": "execute_result"
    }
   ],
   "execution_count": 6
  },
  {
   "metadata": {},
   "cell_type": "markdown",
   "source": "### TODO -> dot product",
   "id": "8db245008e070210"
  },
  {
   "metadata": {
    "ExecuteTime": {
     "end_time": "2024-12-17T21:45:13.648236Z",
     "start_time": "2024-12-17T21:45:13.640961Z"
    }
   },
   "cell_type": "code",
   "source": "np.dot(np.array([1,2,3]), np.array([4,5,6]))",
   "id": "f56607a680cf838",
   "outputs": [
    {
     "data": {
      "text/plain": [
       "32"
      ]
     },
     "execution_count": 7,
     "metadata": {},
     "output_type": "execute_result"
    }
   ],
   "execution_count": 7
  },
  {
   "metadata": {},
   "cell_type": "markdown",
   "source": "### TODO -> array projection",
   "id": "c195184b1c415278"
  },
  {
   "metadata": {
    "ExecuteTime": {
     "end_time": "2024-12-17T22:07:11.040668Z",
     "start_time": "2024-12-17T22:07:10.890243Z"
    }
   },
   "cell_type": "code",
   "source": [
    "#array projection - each axis\n",
    "print(np.dot(np.array([1,2,3]), np.array([1,0,0])))\n",
    "print(np.dot(np.array([1,2,3]), np.array([0,1,0])))\n",
    "print(np.dot(np.array([1,2,3]), np.array([0,0,1])))"
   ],
   "id": "af6d195089d8e9ff",
   "outputs": [
    {
     "name": "stdout",
     "output_type": "stream",
     "text": [
      "1\n",
      "2\n",
      "3\n"
     ]
    }
   ],
   "execution_count": 8
  },
  {
   "metadata": {},
   "cell_type": "markdown",
   "source": "### TODO -> sum of squares",
   "id": "a8bbed32edc4af52"
  },
  {
   "metadata": {
    "ExecuteTime": {
     "end_time": "2024-12-17T22:07:51.208131Z",
     "start_time": "2024-12-17T22:07:51.197387Z"
    }
   },
   "cell_type": "code",
   "source": [
    "#Sum of squares\n",
    "vector = np.array([1,2,3])\n",
    "np.dot(vector, vector)"
   ],
   "id": "50046ee8bc65088f",
   "outputs": [
    {
     "data": {
      "text/plain": [
       "14"
      ]
     },
     "execution_count": 9,
     "metadata": {},
     "output_type": "execute_result"
    }
   ],
   "execution_count": 9
  },
  {
   "metadata": {},
   "cell_type": "code",
   "outputs": [],
   "execution_count": null,
   "source": "",
   "id": "6f6ffb8215a0e9f4"
  }
 ],
 "metadata": {
  "kernelspec": {
   "display_name": "Python 3",
   "language": "python",
   "name": "python3"
  },
  "language_info": {
   "codemirror_mode": {
    "name": "ipython",
    "version": 2
   },
   "file_extension": ".py",
   "mimetype": "text/x-python",
   "name": "python",
   "nbconvert_exporter": "python",
   "pygments_lexer": "ipython2",
   "version": "2.7.6"
  }
 },
 "nbformat": 4,
 "nbformat_minor": 5
}
