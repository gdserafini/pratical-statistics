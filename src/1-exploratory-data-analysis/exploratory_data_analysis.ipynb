{
 "cells": [
  {
   "cell_type": "markdown",
   "id": "09ac0d3c-1c35-4479-89cf-c334736ed14e",
   "metadata": {},
   "source": [
    "# Elements of structured data"
   ]
  },
  {
   "cell_type": "markdown",
   "id": "14432918-d32c-4db6-adad-089f0aa779e1",
   "metadata": {},
   "source": [
    "There are two basic types of structured data:\n",
    "## Numeric\n",
    "* Continuous -> Can take infinite values in an interval (measurement/inference);\n",
    "* Discrete -> Only ordered integer values (count).\n",
    "## Categorical\n",
    "* Nominal -> Classifies without order (classes);\n",
    "* Ordinal -> Sorts in order (e.g. hierarchy);\n",
    "* Binary -> Can take 2 values - 0/1, true/false."
   ]
  },
  {
   "cell_type": "markdown",
   "id": "bab84dc2-3b56-4eb2-87d1-cbd3e2925e9b",
   "metadata": {},
   "source": [
    "Pandas data types: https://oreil.ly/UGX-4 <br>\n",
    "SQL data types: https://oreil.ly/cThTM"
   ]
  },
  {
   "metadata": {},
   "cell_type": "markdown",
   "source": [
    "# Rectangular data\n",
    "The most important data structure in data science is the rectangular (tabular), in this case, a two-dimensional matrix with rows (records) and columns (variables) with an index to identify the record. <br>\n",
    "In an analysis there a feature (inputs to analyze) and outcomes (analysis results/predict). <br>\n",
    "But, in some cases, the data could be nonrectangular like time series, spatial data structures, graphs. So, data processing is also part of a data scientist's job."
   ],
   "id": "40768ed72d3fd8f4"
  },
  {
   "metadata": {},
   "cell_type": "markdown",
   "source": "# Estimates of location",
   "id": "49fbf0f25f236fda"
  },
  {
   "metadata": {},
   "cell_type": "markdown",
   "source": "## Mean",
   "id": "cac557d8bfe30538"
  },
  {
   "metadata": {},
   "cell_type": "markdown",
   "source": [
    "The most basic estimate value is the mean, the sum of all values divided by the number of values.\n",
    "$$\n",
    "x = \\frac{\\sum_{i=1}^{n} xi}{n}\n",
    "$$\n",
    "* NOTE: The x represents the average of the entire population and xbar of the sample. Just as N represents the number of values in the population and n in the sample. <br>\n",
    "\n",
    "The weighted mean is the sum of all values multiplied by their weights divided by the sum of weights. Is useful when some value is more variable than other or some group is underrepresented.\n",
    "$$\n",
    "xw = \\frac{\\sum_{i=1}^{n} xi*wi}{\\sum_{i=1}^{n} wi}\n",
    "$$\n",
    "The trimmed mean is mean without the p-smallest and p-biggest values (sorted). This is estimate eliminates the influence of extreme values.\n",
    "$$\n",
    "xt = \\frac{\\sum_{i=p+1}^{n-p} xi}{n - 2p}\n",
    "$$\n",
    "Trimmed weighted mean:\n",
    "$$\n",
    "xtw = \\frac{\\sum_{i=p+1}^{n-p} xi * wi}{\\sum_{i=p+1}^{n-p} wi}\n",
    "$$\n"
   ],
   "id": "a4bbf5f593bbd745"
  },
  {
   "metadata": {},
   "cell_type": "markdown",
   "source": "## Median and robust estimates",
   "id": "fcde5ebf04321e23"
  },
  {
   "metadata": {},
   "cell_type": "markdown",
   "source": [
    "Median is the middle number on a sorted list. If there is an even number of data values, the median is the mean of the two middle values on the sorted list. Divide the data in 50%/50%. <br>\n",
    "Obs: It is possible to calculate a weighted mean. In this case, it is a value that divides the weights into two parts, the sum of which is equal for each part. <br><br>\n",
    "Outliers -> Extreme values, any value that is very distant from the other values. The outlier can be a valid value or result of bad data/errors. <br>\n",
    "The median or trimmed/weighted mean is less sensitive to outliers than mean. But it is necessary to analyze the benefits of using them according to the size of the data set. <br>\n",
    "Obs: Anomaly detection -> Detection of outliers for investigation and determination if it is result of bad data or not. <br>\n"
   ],
   "id": "6b5092163755ba82"
  },
  {
   "metadata": {},
   "cell_type": "markdown",
   "source": "## Example: Location Estimates of Brazil Demographic Data",
   "id": "ac7596b5c8ee8aa8"
  },
  {
   "metadata": {
    "ExecuteTime": {
     "end_time": "2024-11-14T00:53:13.757062Z",
     "start_time": "2024-11-14T00:53:10.676527Z"
    }
   },
   "cell_type": "code",
   "source": [
    "import pandas as pd\n",
    "import scipy.stats as stats\n",
    "import numpy as np\n",
    "import matplotlib.pyplot as plt"
   ],
   "id": "a05dde3c5d774d64",
   "outputs": [],
   "execution_count": 1
  },
  {
   "metadata": {
    "ExecuteTime": {
     "end_time": "2024-11-14T00:53:13.925486Z",
     "start_time": "2024-11-14T00:53:13.797535Z"
    }
   },
   "cell_type": "code",
   "source": [
    "data = pd.read_csv('../../datasets/data.csv')\n",
    "data.head()"
   ],
   "id": "ee5206904cb0eb08",
   "outputs": [
    {
     "data": {
      "text/plain": [
       "   UF  Sexo  Idade  Cor  Anos de Estudo  Renda    Altura\n",
       "0  11     0     23    8              12    800  1.603808\n",
       "1  11     1     23    2              12   1150  1.739790\n",
       "2  11     1     35    8              15    880  1.760444\n",
       "3  11     0     46    2               6   3500  1.783158\n",
       "4  11     1     47    8               9    150  1.690631"
      ],
      "text/html": [
       "<div>\n",
       "<style scoped>\n",
       "    .dataframe tbody tr th:only-of-type {\n",
       "        vertical-align: middle;\n",
       "    }\n",
       "\n",
       "    .dataframe tbody tr th {\n",
       "        vertical-align: top;\n",
       "    }\n",
       "\n",
       "    .dataframe thead th {\n",
       "        text-align: right;\n",
       "    }\n",
       "</style>\n",
       "<table border=\"1\" class=\"dataframe\">\n",
       "  <thead>\n",
       "    <tr style=\"text-align: right;\">\n",
       "      <th></th>\n",
       "      <th>UF</th>\n",
       "      <th>Sexo</th>\n",
       "      <th>Idade</th>\n",
       "      <th>Cor</th>\n",
       "      <th>Anos de Estudo</th>\n",
       "      <th>Renda</th>\n",
       "      <th>Altura</th>\n",
       "    </tr>\n",
       "  </thead>\n",
       "  <tbody>\n",
       "    <tr>\n",
       "      <th>0</th>\n",
       "      <td>11</td>\n",
       "      <td>0</td>\n",
       "      <td>23</td>\n",
       "      <td>8</td>\n",
       "      <td>12</td>\n",
       "      <td>800</td>\n",
       "      <td>1.603808</td>\n",
       "    </tr>\n",
       "    <tr>\n",
       "      <th>1</th>\n",
       "      <td>11</td>\n",
       "      <td>1</td>\n",
       "      <td>23</td>\n",
       "      <td>2</td>\n",
       "      <td>12</td>\n",
       "      <td>1150</td>\n",
       "      <td>1.739790</td>\n",
       "    </tr>\n",
       "    <tr>\n",
       "      <th>2</th>\n",
       "      <td>11</td>\n",
       "      <td>1</td>\n",
       "      <td>35</td>\n",
       "      <td>8</td>\n",
       "      <td>15</td>\n",
       "      <td>880</td>\n",
       "      <td>1.760444</td>\n",
       "    </tr>\n",
       "    <tr>\n",
       "      <th>3</th>\n",
       "      <td>11</td>\n",
       "      <td>0</td>\n",
       "      <td>46</td>\n",
       "      <td>2</td>\n",
       "      <td>6</td>\n",
       "      <td>3500</td>\n",
       "      <td>1.783158</td>\n",
       "    </tr>\n",
       "    <tr>\n",
       "      <th>4</th>\n",
       "      <td>11</td>\n",
       "      <td>1</td>\n",
       "      <td>47</td>\n",
       "      <td>8</td>\n",
       "      <td>9</td>\n",
       "      <td>150</td>\n",
       "      <td>1.690631</td>\n",
       "    </tr>\n",
       "  </tbody>\n",
       "</table>\n",
       "</div>"
      ]
     },
     "execution_count": 2,
     "metadata": {},
     "output_type": "execute_result"
    }
   ],
   "execution_count": 2
  },
  {
   "metadata": {
    "ExecuteTime": {
     "end_time": "2024-11-14T00:53:15.125872Z",
     "start_time": "2024-11-14T00:53:15.119575Z"
    }
   },
   "cell_type": "code",
   "source": "data['Idade'].mean()",
   "id": "ad82c42fbdb768de",
   "outputs": [
    {
     "data": {
      "text/plain": [
       "44.07142113482561"
      ]
     },
     "execution_count": 3,
     "metadata": {},
     "output_type": "execute_result"
    }
   ],
   "execution_count": 3
  },
  {
   "metadata": {
    "ExecuteTime": {
     "end_time": "2024-11-14T00:53:15.259565Z",
     "start_time": "2024-11-14T00:53:15.250272Z"
    }
   },
   "cell_type": "code",
   "source": "stats.trim_mean(data['Idade'],0.1)",
   "id": "44e80c15c88a42f2",
   "outputs": [
    {
     "data": {
      "text/plain": [
       "43.65834851639771"
      ]
     },
     "execution_count": 4,
     "metadata": {},
     "output_type": "execute_result"
    }
   ],
   "execution_count": 4
  },
  {
   "metadata": {
    "ExecuteTime": {
     "end_time": "2024-11-14T00:53:15.434847Z",
     "start_time": "2024-11-14T00:53:15.421002Z"
    }
   },
   "cell_type": "code",
   "source": "data['Idade'].median()",
   "id": "9c1309ea78da487b",
   "outputs": [
    {
     "data": {
      "text/plain": [
       "43.0"
      ]
     },
     "execution_count": 5,
     "metadata": {},
     "output_type": "execute_result"
    }
   ],
   "execution_count": 5
  },
  {
   "metadata": {
    "ExecuteTime": {
     "end_time": "2024-11-14T00:53:15.598448Z",
     "start_time": "2024-11-14T00:53:15.575080Z"
    }
   },
   "cell_type": "code",
   "source": "np.average(data['Anos de Estudo'], weights=data['Idade'])",
   "id": "714db8f13214db4d",
   "outputs": [
    {
     "data": {
      "text/plain": [
       "9.125607421109079"
      ]
     },
     "execution_count": 6,
     "metadata": {},
     "output_type": "execute_result"
    }
   ],
   "execution_count": 6
  },
  {
   "metadata": {
    "ExecuteTime": {
     "end_time": "2024-11-14T00:53:15.827967Z",
     "start_time": "2024-11-14T00:53:15.812196Z"
    }
   },
   "cell_type": "code",
   "source": [
    "import wquantiles as wq \n",
    "wq.median(data['Anos de Estudo'], weights=data['Idade'])"
   ],
   "id": "91245075561fefd7",
   "outputs": [
    {
     "data": {
      "text/plain": [
       "9.0"
      ]
     },
     "execution_count": 7,
     "metadata": {},
     "output_type": "execute_result"
    }
   ],
   "execution_count": 7
  },
  {
   "metadata": {},
   "cell_type": "markdown",
   "source": "## Estimates of variability",
   "id": "ea7570625486284d"
  },
  {
   "metadata": {},
   "cell_type": "markdown",
   "source": [
    "In addition to summary measures, there are measures of variation that indicate how disperses the data is.  <br>\n",
    "An important estimate of variability is deviations, which are based on the difference between observed data and some estimate of location, that show us how dispersed the data is relation to a central value. <br>\n",
    "Ex: Mean Absolute Deviation -> Average of the deviations of the observed data in relation to the data mean. <br>\n",
    "$$\n",
    "meanad = \\frac{\\sum_{i=1}^{n} |x - xbar|}{n}\n",
    "$$\n",
    "OBS: It is necessary to use the absolute difference so that the negative deviations do not cancel out the positive ones and so that the sum is not equal to zero."
   ],
   "id": "392a1207d805f993"
  },
  {
   "metadata": {},
   "cell_type": "markdown",
   "source": "### Standard deviation and related estimates",
   "id": "7c6b4a8fadacbe59"
  },
  {
   "metadata": {},
   "cell_type": "markdown",
   "source": [
    "Another two important estimates of variability is veriance and standard deviation.<br>\n",
    "The variance is the average of squared deviations, and the std is the squared root of variance.<br>\n",
    "$$\n",
    "v = \\frac{\\sum_{i=1}^{n} (xi - xbar)²}{n-1}\n",
    "$$\n",
    "\n",
    "$$\n",
    "std = \\sqrt{v}\\\n",
    "$$\n",
    "The std returns the estimates to original scale, but these estimates are very sensitive to extreme values. It is preferred over the mean absolute deviation.<br>\n",
    "A robust estimate is the MAD (median absolute deviation) -> the median of absolute deviation between observed data and the median.<br>\n",
    "$$\n",
    "mad = \\text{Med}(|x1 - m|, |x2 - m|,... |xn - m|)\n",
    "$$\n",
    "In a normal distribution, the MAD can be multiplied by the factor k = 1.4826 to normalize to the standard deviation scale, so the MAD splits the data 50/50."
   ],
   "id": "244d0341cde5b0bc"
  },
  {
   "metadata": {},
   "cell_type": "markdown",
   "source": "### Estimates based on percentiles",
   "id": "60d28fa2bb3fb1e2"
  },
  {
   "metadata": {},
   "cell_type": "markdown",
   "source": [
    "The pth percentile is a value that is equal to or greater than p-percent of an ordered list.A commom estimate of variability is IQR (interquartile range), which is the difference bettween the 75th and 25th.$$Percentil(P) = (1 - w)*x[j] + w*x[j+1]$$where:$$w = k - j$$$$k = \\frac{p}{100}\n",
    "*(n - 1)$$$$j = int(k)$$w represents the fractional percentile position (p) between two adjacent numbers."
   ],
   "id": "2c3fdd86f2cd721"
  },
  {
   "metadata": {},
   "cell_type": "markdown",
   "source": "### Example: Variability Estimates of Brazil Demographic Data",
   "id": "c13283cf6eabbb5b"
  },
  {
   "metadata": {
    "ExecuteTime": {
     "end_time": "2024-11-14T00:53:16.037802Z",
     "start_time": "2024-11-14T00:53:16.029709Z"
    }
   },
   "cell_type": "code",
   "source": "data['Renda'].std()",
   "id": "bceb3a9531ad1503",
   "outputs": [
    {
     "data": {
      "text/plain": [
       "3323.3877303470294"
      ]
     },
     "execution_count": 8,
     "metadata": {},
     "output_type": "execute_result"
    }
   ],
   "execution_count": 8
  },
  {
   "metadata": {
    "ExecuteTime": {
     "end_time": "2024-11-14T00:53:16.242209Z",
     "start_time": "2024-11-14T00:53:16.229268Z"
    }
   },
   "cell_type": "code",
   "source": [
    "IQR = data['Renda'].quantile(0.75) - data['Renda'].quantile(0.25)\n",
    "IQR"
   ],
   "id": "960763cdd0305ff0",
   "outputs": [
    {
     "data": {
      "text/plain": [
       "1212.0"
      ]
     },
     "execution_count": 9,
     "metadata": {},
     "output_type": "execute_result"
    }
   ],
   "execution_count": 9
  },
  {
   "metadata": {
    "ExecuteTime": {
     "end_time": "2024-11-14T00:53:16.509609Z",
     "start_time": "2024-11-14T00:53:16.428438Z"
    }
   },
   "cell_type": "code",
   "source": [
    "from statsmodels.robust.scale import mad as smad\n",
    "smad(data['Renda'])"
   ],
   "id": "5a243a17210483a0",
   "outputs": [
    {
     "data": {
      "text/plain": [
       "815.431220178081"
      ]
     },
     "execution_count": 10,
     "metadata": {},
     "output_type": "execute_result"
    }
   ],
   "execution_count": 10
  },
  {
   "metadata": {},
   "cell_type": "markdown",
   "source": "## Exploring the Data Distribution",
   "id": "68a35ad5e3e10778"
  },
  {
   "metadata": {},
   "cell_type": "markdown",
   "source": [
    "Variability estimates are a summary in a single number, it is also useful to explore the distribution of the data.\n",
    "Common -> Quartiles and deciles."
   ],
   "id": "b099fac60b4c6875"
  },
  {
   "metadata": {
    "ExecuteTime": {
     "end_time": "2024-11-14T00:53:16.711765Z",
     "start_time": "2024-11-14T00:53:16.701135Z"
    }
   },
   "cell_type": "code",
   "source": "data['Idade'].quantile([0.05, 0.25, 0.5, 0.75, 0.95])",
   "id": "b3b5ebc383ff4223",
   "outputs": [
    {
     "data": {
      "text/plain": [
       "0.05    25.0\n",
       "0.25    34.0\n",
       "0.50    43.0\n",
       "0.75    53.0\n",
       "0.95    65.0\n",
       "Name: Idade, dtype: float64"
      ]
     },
     "execution_count": 11,
     "metadata": {},
     "output_type": "execute_result"
    }
   ],
   "execution_count": 11
  },
  {
   "metadata": {
    "ExecuteTime": {
     "end_time": "2024-11-14T00:53:17.119841Z",
     "start_time": "2024-11-14T00:53:16.928571Z"
    }
   },
   "cell_type": "code",
   "source": [
    "data['Idade'].plot(kind='box')\n",
    "plt.title('Ages distribution')\n",
    "plt.show()"
   ],
   "id": "71b0c8f69d829b4c",
   "outputs": [
    {
     "data": {
      "text/plain": [
       "<Figure size 640x480 with 1 Axes>"
      ],
      "image/png": "[encoded data removed]"
     },
     "metadata": {},
     "output_type": "display_data"
    }
   ],
   "execution_count": 12
  },
  {
   "metadata": {},
   "cell_type": "markdown",
   "source": "The boxplot graph shows us how the data is distributed, the box is defined with 25th (Q1), 50th (Q2) and 75th (Q3) representing 50% of the values, the upper and lower limits are defined by Q3 + 1.5 * IQR and Q1 - 1.5 * IQR respectively, and the single points outside the limits represent the outliers.\n",
   "id": "897b918aef3dfa5a"
  },
  {
   "metadata": {},
   "cell_type": "markdown",
   "source": "## Frequency tables and histograms",
   "id": "c74d3789ea610b1f"
  },
  {
   "metadata": {},
   "cell_type": "markdown",
   "source": "The frequency table divides the data into equally spaced intervals (bins) and counts how many values are within each bin.",
   "id": "ffcb37abb57f6161"
  },
  {
   "metadata": {
    "ExecuteTime": {
     "end_time": "2024-11-14T00:55:19.803700Z",
     "start_time": "2024-11-14T00:55:19.735698Z"
    }
   },
   "cell_type": "code",
   "source": [
    "binnedIncomes = pd.cut(data['Renda'], 10)\n",
    "binnedIncomes.value_counts()"
   ],
   "id": "8c12ae4944c8c4f0",
   "outputs": [
    {
     "data": {
      "text/plain": [
       "Renda\n",
       "(-200.0, 20000.0]       76581\n",
       "(20000.0, 40000.0]        218\n",
       "(40000.0, 60000.0]         26\n",
       "(80000.0, 100000.0]         7\n",
       "(60000.0, 80000.0]          4\n",
       "(180000.0, 200000.0]        3\n",
       "(100000.0, 120000.0]        1\n",
       "(120000.0, 140000.0]        0\n",
       "(140000.0, 160000.0]        0\n",
       "(160000.0, 180000.0]        0\n",
       "Name: count, dtype: int64"
      ]
     },
     "execution_count": 14,
     "metadata": {},
     "output_type": "execute_result"
    }
   ],
   "execution_count": 14
  },
  {
   "metadata": {},
   "cell_type": "markdown",
   "source": "markdown",
   "id": "70c81795555d18e8"
  },
  {
   "metadata": {},
   "cell_type": "code",
   "outputs": [],
   "execution_count": null,
   "source": "",
   "id": "e01f87c0635b2269"
  }
 ],
 "metadata": {
  "kernelspec": {
   "display_name": "Python 3 (ipykernel)",
   "language": "python",
   "name": "python3"
  },
  "language_info": {
   "codemirror_mode": {
    "name": "ipython",
    "version": 3
   },
   "file_extension": ".py",
   "mimetype": "text/x-python",
   "name": "python",
   "nbconvert_exporter": "python",
   "pygments_lexer": "ipython3",
   "version": "3.12.5"
  }
 },
 "nbformat": 4,
 "nbformat_minor": 5
}
