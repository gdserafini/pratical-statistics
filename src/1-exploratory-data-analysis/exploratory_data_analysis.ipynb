{
 "cells": [
  {
   "cell_type": "markdown",
   "id": "09ac0d3c-1c35-4479-89cf-c334736ed14e",
   "metadata": {},
   "source": [
    "# Elements of structured data"
   ]
  },
  {
   "cell_type": "markdown",
   "id": "14432918-d32c-4db6-adad-089f0aa779e1",
   "metadata": {},
   "source": [
    "There are two basic types of structured data:\n",
    "## Numeric\n",
    "* Continuous -> Can take infinite values in an interval (measurement/inference);\n",
    "* Discrete -> Only ordered integer values (count).\n",
    "## Categorical\n",
    "* Nominal -> Classifies without order (classes);\n",
    "* Ordinal -> Sorts in order (e.g. hierarchy);\n",
    "* Binary -> Can take 2 values - 0/1, true/false."
   ]
  },
  {
   "cell_type": "markdown",
   "id": "bab84dc2-3b56-4eb2-87d1-cbd3e2925e9b",
   "metadata": {},
   "source": [
    "Pandas data types: https://oreil.ly/UGX-4 <br>\n",
    "SQL data types: https://oreil.ly/cThTM"
   ]
  },
  {
   "metadata": {},
   "cell_type": "markdown",
   "source": [
    "# Rectangular data\n",
    "The most important data structure in data science is the rectangular (tabular), in this case, a two-dimensional matrix with rows (records) and columns (variables) with an index to identify the record. <br>\n",
    "In an analysis there a feature (inputs to analyze) and outcomes (analysis results/predict). <br>\n",
    "But, in some cases, the data could be nonrectangular like time series, spatial data structures, graphs. So, data processing is also part of a data scientist's job."
   ],
   "id": "40768ed72d3fd8f4"
  },
  {
   "metadata": {},
   "cell_type": "markdown",
   "source": "# Estimates of location",
   "id": "49fbf0f25f236fda"
  },
  {
   "metadata": {},
   "cell_type": "markdown",
   "source": "## Mean",
   "id": "cac557d8bfe30538"
  },
  {
   "metadata": {},
   "cell_type": "markdown",
   "source": [
    "The most basic estimate value is the mean, the sum of all values divided by the number of values.\n",
    "$$\n",
    "x = \\frac{\\sum_{i=1}^{n} xi}{n}\n",
    "$$\n",
    "* NOTE: The x represents the average of the entire population and xbar of the sample. Just as N represents the number of values in the population and n in the sample. <br>\n",
    "\n",
    "The weighted mean is the sum of all values multiplied by their weights divided by the sum of weights. Is useful when some value is more variable than other or some group is underrepresented.\n",
    "$$\n",
    "xw = \\frac{\\sum_{i=1}^{n} xi*wi}{\\sum_{i=1}^{n} wi}\n",
    "$$\n",
    "The trimmed mean is mean without the p-smallest and p-biggest values (sorted). This is estimate eliminates the influence of extreme values.\n",
    "$$\n",
    "xt = \\frac{\\sum_{i=p+1}^{n-p} xi}{n - 2p}\n",
    "$$\n",
    "Trimmed weighted mean:\n",
    "$$\n",
    "xtw = \\frac{\\sum_{i=p+1}^{n-p} xi * wi}{\\sum_{i=p+1}^{n-p} wi}\n",
    "$$\n"
   ],
   "id": "a4bbf5f593bbd745"
  },
  {
   "metadata": {},
   "cell_type": "markdown",
   "source": "## Median and robust estimates",
   "id": "fcde5ebf04321e23"
  },
  {
   "metadata": {},
   "cell_type": "markdown",
   "source": [
    "Median is the middle number on a sorted list. If there is an even number of data values, the median is the mean of the two middle values on the sorted list. Divide the data in 50%/50%. <br>\n",
    "Obs: It is possible to calculate a weighted mean. In this case, it is a value that divides the weights into two parts, the sum of which is equal for each part. <br><br>\n",
    "Outliers -> Extreme values, any value that is very distant from the other values. The outlier can be a valid value or result of bad data/errors. <br>\n",
    "The median or trimmed/weighted mean is less sensitive to outliers than mean. But it is necessary to analyze the benefits of using them according to the size of the data set. <br>\n",
    "Obs: Anomaly detection -> Detection of outliers for investigation and determination if it is result of bad data or not. <br>\n"
   ],
   "id": "6b5092163755ba82"
  },
  {
   "metadata": {},
   "cell_type": "markdown",
   "source": "## Example: Location Estimates of Brazil Demographic Data",
   "id": "ac7596b5c8ee8aa8"
  },
  {
   "metadata": {
    "ExecuteTime": {
     "end_time": "2024-11-10T17:57:19.681478Z",
     "start_time": "2024-11-10T17:57:18.615764Z"
    }
   },
   "cell_type": "code",
   "source": [
    "import pandas as pd\n",
    "import scipy.stats as stats\n",
    "import numpy as np\n",
    "import matplotlib.pyplot as plt"
   ],
   "id": "a05dde3c5d774d64",
   "outputs": [],
   "execution_count": 14
  },
  {
   "metadata": {
    "ExecuteTime": {
     "end_time": "2024-11-10T17:53:26.960945Z",
     "start_time": "2024-11-10T17:53:26.857848Z"
    }
   },
   "cell_type": "code",
   "source": [
    "data = pd.read_csv('../../datasets/data.csv')\n",
    "data.head()"
   ],
   "id": "ee5206904cb0eb08",
   "outputs": [
    {
     "data": {
      "text/plain": [
       "   UF  Sexo  Idade  Cor  Anos de Estudo  Renda    Altura\n",
       "0  11     0     23    8              12    800  1.603808\n",
       "1  11     1     23    2              12   1150  1.739790\n",
       "2  11     1     35    8              15    880  1.760444\n",
       "3  11     0     46    2               6   3500  1.783158\n",
       "4  11     1     47    8               9    150  1.690631"
      ],
      "text/html": [
       "<div>\n",
       "<style scoped>\n",
       "    .dataframe tbody tr th:only-of-type {\n",
       "        vertical-align: middle;\n",
       "    }\n",
       "\n",
       "    .dataframe tbody tr th {\n",
       "        vertical-align: top;\n",
       "    }\n",
       "\n",
       "    .dataframe thead th {\n",
       "        text-align: right;\n",
       "    }\n",
       "</style>\n",
       "<table border=\"1\" class=\"dataframe\">\n",
       "  <thead>\n",
       "    <tr style=\"text-align: right;\">\n",
       "      <th></th>\n",
       "      <th>UF</th>\n",
       "      <th>Sexo</th>\n",
       "      <th>Idade</th>\n",
       "      <th>Cor</th>\n",
       "      <th>Anos de Estudo</th>\n",
       "      <th>Renda</th>\n",
       "      <th>Altura</th>\n",
       "    </tr>\n",
       "  </thead>\n",
       "  <tbody>\n",
       "    <tr>\n",
       "      <th>0</th>\n",
       "      <td>11</td>\n",
       "      <td>0</td>\n",
       "      <td>23</td>\n",
       "      <td>8</td>\n",
       "      <td>12</td>\n",
       "      <td>800</td>\n",
       "      <td>1.603808</td>\n",
       "    </tr>\n",
       "    <tr>\n",
       "      <th>1</th>\n",
       "      <td>11</td>\n",
       "      <td>1</td>\n",
       "      <td>23</td>\n",
       "      <td>2</td>\n",
       "      <td>12</td>\n",
       "      <td>1150</td>\n",
       "      <td>1.739790</td>\n",
       "    </tr>\n",
       "    <tr>\n",
       "      <th>2</th>\n",
       "      <td>11</td>\n",
       "      <td>1</td>\n",
       "      <td>35</td>\n",
       "      <td>8</td>\n",
       "      <td>15</td>\n",
       "      <td>880</td>\n",
       "      <td>1.760444</td>\n",
       "    </tr>\n",
       "    <tr>\n",
       "      <th>3</th>\n",
       "      <td>11</td>\n",
       "      <td>0</td>\n",
       "      <td>46</td>\n",
       "      <td>2</td>\n",
       "      <td>6</td>\n",
       "      <td>3500</td>\n",
       "      <td>1.783158</td>\n",
       "    </tr>\n",
       "    <tr>\n",
       "      <th>4</th>\n",
       "      <td>11</td>\n",
       "      <td>1</td>\n",
       "      <td>47</td>\n",
       "      <td>8</td>\n",
       "      <td>9</td>\n",
       "      <td>150</td>\n",
       "      <td>1.690631</td>\n",
       "    </tr>\n",
       "  </tbody>\n",
       "</table>\n",
       "</div>"
      ]
     },
     "execution_count": 2,
     "metadata": {},
     "output_type": "execute_result"
    }
   ],
   "execution_count": 2
  },
  {
   "metadata": {
    "ExecuteTime": {
     "end_time": "2024-11-10T17:53:28.975025Z",
     "start_time": "2024-11-10T17:53:28.961554Z"
    }
   },
   "cell_type": "code",
   "source": "data['Idade'].mean()",
   "id": "ad82c42fbdb768de",
   "outputs": [
    {
     "data": {
      "text/plain": [
       "44.07142113482561"
      ]
     },
     "execution_count": 3,
     "metadata": {},
     "output_type": "execute_result"
    }
   ],
   "execution_count": 3
  },
  {
   "metadata": {
    "ExecuteTime": {
     "end_time": "2024-11-10T17:53:29.079452Z",
     "start_time": "2024-11-10T17:53:29.066412Z"
    }
   },
   "cell_type": "code",
   "source": "stats.trim_mean(data['Idade'],0.1)",
   "id": "44e80c15c88a42f2",
   "outputs": [
    {
     "data": {
      "text/plain": [
       "43.65834851639771"
      ]
     },
     "execution_count": 4,
     "metadata": {},
     "output_type": "execute_result"
    }
   ],
   "execution_count": 4
  },
  {
   "metadata": {
    "ExecuteTime": {
     "end_time": "2024-11-10T17:53:29.340676Z",
     "start_time": "2024-11-10T17:53:29.319576Z"
    }
   },
   "cell_type": "code",
   "source": "data['Idade'].median()",
   "id": "9c1309ea78da487b",
   "outputs": [
    {
     "data": {
      "text/plain": [
       "43.0"
      ]
     },
     "execution_count": 5,
     "metadata": {},
     "output_type": "execute_result"
    }
   ],
   "execution_count": 5
  },
  {
   "metadata": {
    "ExecuteTime": {
     "end_time": "2024-11-10T17:53:29.571836Z",
     "start_time": "2024-11-10T17:53:29.561755Z"
    }
   },
   "cell_type": "code",
   "source": "np.average(data['Anos de Estudo'], weights=data['Idade'])",
   "id": "714db8f13214db4d",
   "outputs": [
    {
     "data": {
      "text/plain": [
       "9.125607421109079"
      ]
     },
     "execution_count": 6,
     "metadata": {},
     "output_type": "execute_result"
    }
   ],
   "execution_count": 6
  },
  {
   "metadata": {
    "ExecuteTime": {
     "end_time": "2024-11-10T17:53:29.929069Z",
     "start_time": "2024-11-10T17:53:29.909856Z"
    }
   },
   "cell_type": "code",
   "source": [
    "import wquantiles as wq \n",
    "wq.median(data['Anos de Estudo'], weights=data['Idade'])"
   ],
   "id": "91245075561fefd7",
   "outputs": [
    {
     "data": {
      "text/plain": [
       "9.0"
      ]
     },
     "execution_count": 7,
     "metadata": {},
     "output_type": "execute_result"
    }
   ],
   "execution_count": 7
  },
  {
   "metadata": {},
   "cell_type": "markdown",
   "source": "## Estimates of variability",
   "id": "ea7570625486284d"
  },
  {
   "metadata": {},
   "cell_type": "markdown",
   "source": [
    "In addition to summary measures, there are measures of variation that indicate how disperses the data is.  <br>\n",
    "An important estimate of variability is deviations, which are based on the difference between observed data and some estimate of location, that show us how dispersed the data is relation to a central value. <br>\n",
    "Ex: Mean Absolute Deviation -> Average of the deviations of the observed data in relation to the data mean. <br>\n",
    "$$\n",
    "meanad = \\frac{\\sum_{i=1}^{n} |x - xbar|}{n}\n",
    "$$\n",
    "OBS: It is necessary to use the absolute difference so that the negative deviations do not cancel out the positive ones and so that the sum is not equal to zero."
   ],
   "id": "392a1207d805f993"
  },
  {
   "metadata": {},
   "cell_type": "markdown",
   "source": "### Standard deviation and related estimates",
   "id": "7c6b4a8fadacbe59"
  },
  {
   "metadata": {},
   "cell_type": "markdown",
   "source": [
    "Another two important estimates of variability is veriance and standard deviation.<br>\n",
    "The variance is the average of squared deviations, and the std is the squared root of variance.<br>\n",
    "$$\n",
    "v = \\frac{\\sum_{i=1}^{n} (xi - xbar)²}{n-1}\n",
    "$$\n",
    "\n",
    "$$\n",
    "std = \\sqrt{v}\\\n",
    "$$\n",
    "The std returns the estimates to original scale, but these estimates are very sensitive to extreme values. It is preferred over the mean absolute deviation.<br>\n",
    "A robust estimate is the MAD (median absolute deviation) -> the median of absolute deviation between observed data and the median.<br>\n",
    "$$\n",
    "mad = \\text{Med}(|x1 - m|, |x2 - m|,... |xn - m|)\n",
    "$$\n",
    "In a normal distribution, the MAD can be multiplied by the factor k = 1.4826 to normalize to the standard deviation scale, so the MAD splits the data 50/50."
   ],
   "id": "244d0341cde5b0bc"
  },
  {
   "metadata": {},
   "cell_type": "markdown",
   "source": "### Estimates based on percentiles",
   "id": "60d28fa2bb3fb1e2"
  },
  {
   "metadata": {},
   "cell_type": "markdown",
   "source": [
    "The pth percentile is a value that is equal to or greater than p-percent of an ordered list.A commom estimate of variability is IQR (interquartile range), which is the difference bettween the 75th and 25th.$$Percentil(P) = (1 - w)*x[j] + w*x[j+1]$$where:$$w = k - j$$$$k = \\frac{p}{100}\n",
    "*(n - 1)$$$$j = int(k)$$w represents the fractional percentile position (p) between two adjacent numbers."
   ],
   "id": "2c3fdd86f2cd721"
  },
  {
   "metadata": {},
   "cell_type": "markdown",
   "source": "### Example: Variability Estimates of Brazil Demographic Data",
   "id": "c13283cf6eabbb5b"
  },
  {
   "metadata": {
    "ExecuteTime": {
     "end_time": "2024-11-10T17:53:30.634017Z",
     "start_time": "2024-11-10T17:53:30.593361Z"
    }
   },
   "cell_type": "code",
   "source": "data['Renda'].std()",
   "id": "bceb3a9531ad1503",
   "outputs": [
    {
     "data": {
      "text/plain": [
       "3323.3877303470294"
      ]
     },
     "execution_count": 8,
     "metadata": {},
     "output_type": "execute_result"
    }
   ],
   "execution_count": 8
  },
  {
   "metadata": {
    "ExecuteTime": {
     "end_time": "2024-11-10T17:53:30.680070Z",
     "start_time": "2024-11-10T17:53:30.660023Z"
    }
   },
   "cell_type": "code",
   "source": [
    "IQR = data['Renda'].quantile(0.75) - data['Renda'].quantile(0.25)\n",
    "IQR"
   ],
   "id": "960763cdd0305ff0",
   "outputs": [
    {
     "data": {
      "text/plain": [
       "1212.0"
      ]
     },
     "execution_count": 9,
     "metadata": {},
     "output_type": "execute_result"
    }
   ],
   "execution_count": 9
  },
  {
   "metadata": {
    "ExecuteTime": {
     "end_time": "2024-11-10T17:53:31.111129Z",
     "start_time": "2024-11-10T17:53:30.989336Z"
    }
   },
   "cell_type": "code",
   "source": [
    "from statsmodels.robust.scale import mad as smad\n",
    "smad(data['Renda'])"
   ],
   "id": "5a243a17210483a0",
   "outputs": [
    {
     "data": {
      "text/plain": [
       "815.431220178081"
      ]
     },
     "execution_count": 10,
     "metadata": {},
     "output_type": "execute_result"
    }
   ],
   "execution_count": 10
  },
  {
   "metadata": {},
   "cell_type": "markdown",
   "source": "## Exploring the Data Distribution",
   "id": "68a35ad5e3e10778"
  },
  {
   "metadata": {},
   "cell_type": "markdown",
   "source": [
    "Variability estimates are a summary in a single number, it is also useful to explore the distribution of the data.\n",
    "Common -> Quartiles and deciles."
   ],
   "id": "b099fac60b4c6875"
  },
  {
   "metadata": {
    "ExecuteTime": {
     "end_time": "2024-11-10T18:06:07.357672Z",
     "start_time": "2024-11-10T18:06:07.156880Z"
    }
   },
   "cell_type": "code",
   "source": "data['Idade'].quantile([0.05, 0.25, 0.5, 0.75, 0.95])",
   "id": "b3b5ebc383ff4223",
   "outputs": [
    {
     "data": {
      "text/plain": [
       "0.05    25.0\n",
       "0.25    34.0\n",
       "0.50    43.0\n",
       "0.75    53.0\n",
       "0.95    65.0\n",
       "Name: Idade, dtype: float64"
      ]
     },
     "execution_count": 20,
     "metadata": {},
     "output_type": "execute_result"
    }
   ],
   "execution_count": 20
  },
  {
   "metadata": {
    "ExecuteTime": {
     "end_time": "2024-11-10T18:01:01.696824Z",
     "start_time": "2024-11-10T18:01:01.540005Z"
    }
   },
   "cell_type": "code",
   "source": [
    "data['Idade'].plot(kind='box')\n",
    "plt.title('Ages distribution')\n",
    "plt.show()"
   ],
   "id": "52d445a452ffa34d",
   "outputs": [
    {
     "data": {
      "text/plain": [
       "<Figure size 640x480 with 1 Axes>"
      ],
      "image/png": "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"
     },
     "metadata": {},
     "output_type": "display_data"
    }
   ],
   "execution_count": 19
  },
  {
   "metadata": {},
   "cell_type": "markdown",
   "source": "The boxplot graph shows us how the data is distributed, the box is defined with 25th (Q1), 50th (Q2) and 75th (Q3) representing 50% of the values, the upper and lower limits are defined by Q3 + 1.5 * IQR and Q1 - 1.5 * IQR respectively, and the single points outside the limits represent the outliers.\n",
   "## Frequency tables and histograms\n",
   "The frequency table divides the data into equally spaced intervals (bins) and counts how many values are within each bin.",
   "id": "897b918aef3dfa5a"
  },
  {
   "metadata": {},
   "cell_type": "markdown",
   "source": "",
   "id": "c74d3789ea610b1f"
  }
 ],
 "metadata": {
  "kernelspec": {
   "display_name": "Python 3 (ipykernel)",
   "language": "python",
   "name": "python3"
  },
  "language_info": {
   "codemirror_mode": {
    "name": "ipython",
    "version": 3
   },
   "file_extension": ".py",
   "mimetype": "text/x-python",
   "name": "python",
   "nbconvert_exporter": "python",
   "pygments_lexer": "ipython3",
   "version": "3.12.5"
  }
 },
 "nbformat": 4,
 "nbformat_minor": 5
}
