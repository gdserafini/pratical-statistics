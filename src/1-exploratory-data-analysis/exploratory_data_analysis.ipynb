{
 "cells": [
  {
   "cell_type": "markdown",
   "id": "09ac0d3c-1c35-4479-89cf-c334736ed14e",
   "metadata": {},
   "source": [
    "# Elements of structured data"
   ]
  },
  {
   "cell_type": "markdown",
   "id": "14432918-d32c-4db6-adad-089f0aa779e1",
   "metadata": {},
   "source": [
    "There are two basic types of structured data:\n",
    "## Numeric\n",
    "* Continuous -> Can take infinite values in an interval (measurement/inference);\n",
    "* Discrete -> Only ordered integer values (count).\n",
    "## Categorical\n",
    "* Nominal -> Classifies without order (classes);\n",
    "* Ordinal -> Sorts in order (e.g. hierarchy);\n",
    "* Binary -> Can take 2 values - 0/1, true/false."
   ]
  },
  {
   "cell_type": "markdown",
   "id": "bab84dc2-3b56-4eb2-87d1-cbd3e2925e9b",
   "metadata": {},
   "source": [
    "Pandas data types: https://oreil.ly/UGX-4 <br>\n",
    "SQL data types: https://oreil.ly/cThTM"
   ]
  },
  {
   "metadata": {},
   "cell_type": "markdown",
   "source": [
    "# Rectangular data\n",
    "The most important data structure in data science is the rectangular (tabular), in this case, a two-dimensional matrix with rows (records) and columns (variables) with an index to identify the record. <br>\n",
    "In an analysis there a feature (inputs to analyze) and outcomes (analysis results/predict). <br>\n",
    "But, in some cases, the data could be nonrectangular like time series, spatial data structures, graphs. So, data processing is also part of a data scientist's job."
   ],
   "id": "40768ed72d3fd8f4"
  },
  {
   "metadata": {},
   "cell_type": "markdown",
   "source": "# Estimates of location",
   "id": "49fbf0f25f236fda"
  },
  {
   "metadata": {},
   "cell_type": "markdown",
   "source": "## Mean",
   "id": "cac557d8bfe30538"
  },
  {
   "metadata": {},
   "cell_type": "markdown",
   "source": [
    "The most basic estimate value is the mean, the sum of all values divided by the number of values.\n",
    "$$\n",
    "x = \\frac{\\sum_{i=1}^{n} xi}{n}\n",
    "$$\n",
    "* NOTE: The x represents the average of the entire population and xbar of the sample. Just as N represents the number of values in the population and n in the sample. <br>\n",
    "\n",
    "The weighted mean is the sum of all values multiplied by their weights divided by the sum of weights. Is useful when some value is more variable than other or some group is underrepresented.\n",
    "$$\n",
    "xw = \\frac{\\sum_{i=1}^{n} xi*wi}{\\sum_{i=1}^{n} wi}\n",
    "$$\n",
    "The trimmed mean is mean without the p-smallest and p-biggest values (sorted). This is estimate eliminates the influence of extreme values.\n",
    "$$\n",
    "xt = \\frac{\\sum_{i=p+1}^{n-p} xi}{n - 2p}\n",
    "$$\n",
    "Trimmed weighted mean:\n",
    "$$\n",
    "xtw = \\frac{\\sum_{i=p+1}^{n-p} xi * wi}{\\sum_{i=p+1}^{n-p} wi}\n",
    "$$\n"
   ],
   "id": "a4bbf5f593bbd745"
  },
  {
   "metadata": {},
   "cell_type": "markdown",
   "source": "## Median and robust estimates",
   "id": "fcde5ebf04321e23"
  },
  {
   "metadata": {},
   "cell_type": "markdown",
   "source": [
    "Median is the middle number on a sorted list. If there is an even number of data values, the median is the mean of the two middle values on the sorted list. Divide the data in 50%/50%. <br>\n",
    "Obs: It is possible to calculate a weighted mean. In this case, it is a value that divides the weights into two parts, the sum of which is equal for each part. <br><br>\n",
    "Outliers -> Extreme values, any value that is very distant from the other values. The outlier can be a valid value or result of bad data/errors. <br>\n",
    "The median or trimmed/weighted mean is less sensitive to outliers than mean. But it is necessary to analyze the benefits of using them according to the size of the data set. <br>\n",
    "Obs: Anomaly detection -> Detection of outliers for investigation and determination if it is result of bad data or not. <br>\n"
   ],
   "id": "6b5092163755ba82"
  },
  {
   "metadata": {},
   "cell_type": "markdown",
   "source": "## Example: Location Estimates of Brazil Demographic Data",
   "id": "ac7596b5c8ee8aa8"
  },
  {
   "metadata": {
    "ExecuteTime": {
     "end_time": "2024-12-08T12:48:57.098773Z",
     "start_time": "2024-12-08T12:48:52.497088Z"
    }
   },
   "cell_type": "code",
   "source": [
    "import pandas as pd\n",
    "import scipy.stats as stats\n",
    "import numpy as np\n",
    "import matplotlib.pyplot as plt"
   ],
   "id": "a05dde3c5d774d64",
   "outputs": [],
   "execution_count": 1
  },
  {
   "metadata": {
    "ExecuteTime": {
     "end_time": "2024-12-08T12:48:57.269643Z",
     "start_time": "2024-12-08T12:48:57.173419Z"
    }
   },
   "cell_type": "code",
   "source": [
    "data = pd.read_csv('../../datasets/data.csv')\n",
    "data.columns = ['State', 'Sex', 'Age', 'Color', 'Years of Study', 'Salary', 'Height']\n",
    "data.head()"
   ],
   "id": "ee5206904cb0eb08",
   "outputs": [
    {
     "data": {
      "text/plain": [
       "   State  Sex  Age  Color  Years of Study  Salary    Height\n",
       "0     11    0   23      8              12     800  1.603808\n",
       "1     11    1   23      2              12    1150  1.739790\n",
       "2     11    1   35      8              15     880  1.760444\n",
       "3     11    0   46      2               6    3500  1.783158\n",
       "4     11    1   47      8               9     150  1.690631"
      ],
      "text/html": [
       "<div>\n",
       "<style scoped>\n",
       "    .dataframe tbody tr th:only-of-type {\n",
       "        vertical-align: middle;\n",
       "    }\n",
       "\n",
       "    .dataframe tbody tr th {\n",
       "        vertical-align: top;\n",
       "    }\n",
       "\n",
       "    .dataframe thead th {\n",
       "        text-align: right;\n",
       "    }\n",
       "</style>\n",
       "<table border=\"1\" class=\"dataframe\">\n",
       "  <thead>\n",
       "    <tr style=\"text-align: right;\">\n",
       "      <th></th>\n",
       "      <th>State</th>\n",
       "      <th>Sex</th>\n",
       "      <th>Age</th>\n",
       "      <th>Color</th>\n",
       "      <th>Years of Study</th>\n",
       "      <th>Salary</th>\n",
       "      <th>Height</th>\n",
       "    </tr>\n",
       "  </thead>\n",
       "  <tbody>\n",
       "    <tr>\n",
       "      <th>0</th>\n",
       "      <td>11</td>\n",
       "      <td>0</td>\n",
       "      <td>23</td>\n",
       "      <td>8</td>\n",
       "      <td>12</td>\n",
       "      <td>800</td>\n",
       "      <td>1.603808</td>\n",
       "    </tr>\n",
       "    <tr>\n",
       "      <th>1</th>\n",
       "      <td>11</td>\n",
       "      <td>1</td>\n",
       "      <td>23</td>\n",
       "      <td>2</td>\n",
       "      <td>12</td>\n",
       "      <td>1150</td>\n",
       "      <td>1.739790</td>\n",
       "    </tr>\n",
       "    <tr>\n",
       "      <th>2</th>\n",
       "      <td>11</td>\n",
       "      <td>1</td>\n",
       "      <td>35</td>\n",
       "      <td>8</td>\n",
       "      <td>15</td>\n",
       "      <td>880</td>\n",
       "      <td>1.760444</td>\n",
       "    </tr>\n",
       "    <tr>\n",
       "      <th>3</th>\n",
       "      <td>11</td>\n",
       "      <td>0</td>\n",
       "      <td>46</td>\n",
       "      <td>2</td>\n",
       "      <td>6</td>\n",
       "      <td>3500</td>\n",
       "      <td>1.783158</td>\n",
       "    </tr>\n",
       "    <tr>\n",
       "      <th>4</th>\n",
       "      <td>11</td>\n",
       "      <td>1</td>\n",
       "      <td>47</td>\n",
       "      <td>8</td>\n",
       "      <td>9</td>\n",
       "      <td>150</td>\n",
       "      <td>1.690631</td>\n",
       "    </tr>\n",
       "  </tbody>\n",
       "</table>\n",
       "</div>"
      ]
     },
     "execution_count": 2,
     "metadata": {},
     "output_type": "execute_result"
    }
   ],
   "execution_count": 2
  },
  {
   "metadata": {
    "ExecuteTime": {
     "end_time": "2024-12-08T12:48:59.003066Z",
     "start_time": "2024-12-08T12:48:58.995882Z"
    }
   },
   "cell_type": "code",
   "source": "data['Age'].mean()",
   "id": "ad82c42fbdb768de",
   "outputs": [
    {
     "data": {
      "text/plain": [
       "44.07142113482561"
      ]
     },
     "execution_count": 3,
     "metadata": {},
     "output_type": "execute_result"
    }
   ],
   "execution_count": 3
  },
  {
   "metadata": {
    "ExecuteTime": {
     "end_time": "2024-12-08T12:48:59.058309Z",
     "start_time": "2024-12-08T12:48:59.046284Z"
    }
   },
   "cell_type": "code",
   "source": "stats.trim_mean(data['Age'],0.1)",
   "id": "44e80c15c88a42f2",
   "outputs": [
    {
     "data": {
      "text/plain": [
       "43.65834851639771"
      ]
     },
     "execution_count": 4,
     "metadata": {},
     "output_type": "execute_result"
    }
   ],
   "execution_count": 4
  },
  {
   "metadata": {
    "ExecuteTime": {
     "end_time": "2024-12-08T12:48:59.201348Z",
     "start_time": "2024-12-08T12:48:59.192436Z"
    }
   },
   "cell_type": "code",
   "source": "data['Age'].median()",
   "id": "9c1309ea78da487b",
   "outputs": [
    {
     "data": {
      "text/plain": [
       "43.0"
      ]
     },
     "execution_count": 5,
     "metadata": {},
     "output_type": "execute_result"
    }
   ],
   "execution_count": 5
  },
  {
   "metadata": {
    "ExecuteTime": {
     "end_time": "2024-12-08T12:48:59.456062Z",
     "start_time": "2024-12-08T12:48:59.447081Z"
    }
   },
   "cell_type": "code",
   "source": "np.average(data['Years of Study'], weights=data['Age'])",
   "id": "714db8f13214db4d",
   "outputs": [
    {
     "data": {
      "text/plain": [
       "9.125607421109079"
      ]
     },
     "execution_count": 6,
     "metadata": {},
     "output_type": "execute_result"
    }
   ],
   "execution_count": 6
  },
  {
   "metadata": {
    "ExecuteTime": {
     "end_time": "2024-12-08T12:48:59.622440Z",
     "start_time": "2024-12-08T12:48:59.606694Z"
    }
   },
   "cell_type": "code",
   "source": [
    "import wquantiles as wq \n",
    "wq.median(data['Years of Study'], weights=data['Age'])"
   ],
   "id": "91245075561fefd7",
   "outputs": [
    {
     "data": {
      "text/plain": [
       "9.0"
      ]
     },
     "execution_count": 7,
     "metadata": {},
     "output_type": "execute_result"
    }
   ],
   "execution_count": 7
  },
  {
   "metadata": {},
   "cell_type": "markdown",
   "source": "## Estimates of variability",
   "id": "ea7570625486284d"
  },
  {
   "metadata": {},
   "cell_type": "markdown",
   "source": [
    "In addition to summary measures, there are measures of variation that indicate how disperses the data is.  <br>\n",
    "An important estimate of variability is deviations, which are based on the difference between observed data and some estimate of location, that show us how dispersed the data is relation to a central value. <br>\n",
    "Ex: Mean Absolute Deviation -> Average of the deviations of the observed data in relation to the data mean. <br>\n",
    "$$\n",
    "meanad = \\frac{\\sum_{i=1}^{n} |x - xbar|}{n}\n",
    "$$\n",
    "OBS: It is necessary to use the absolute difference so that the negative deviations do not cancel out the positive ones and so that the sum is not equal to zero."
   ],
   "id": "392a1207d805f993"
  },
  {
   "metadata": {},
   "cell_type": "markdown",
   "source": "### Standard deviation and related estimates",
   "id": "7c6b4a8fadacbe59"
  },
  {
   "metadata": {},
   "cell_type": "markdown",
   "source": [
    "Another two important estimates of variability is veriance and standard deviation.<br>\n",
    "The variance is the average of squared deviations, and the std is the squared root of variance.<br>\n",
    "$$\n",
    "v = \\frac{\\sum_{i=1}^{n} (xi - xbar)²}{n-1}\n",
    "$$\n",
    "\n",
    "$$\n",
    "std = \\sqrt{v}\\\n",
    "$$\n",
    "The std returns the estimates to original scale, but these estimates are very sensitive to extreme values. It is preferred over the mean absolute deviation.<br>\n",
    "A robust estimate is the MAD (median absolute deviation) -> the median of absolute deviation between observed data and the median.<br>\n",
    "$$\n",
    "mad = \\text{Med}(|x1 - m|, |x2 - m|,... |xn - m|)\n",
    "$$\n",
    "In a normal distribution, the MAD can be multiplied by the factor k = 1.4826 to normalize to the standard deviation scale, so the MAD splits the data 50/50."
   ],
   "id": "244d0341cde5b0bc"
  },
  {
   "metadata": {},
   "cell_type": "markdown",
   "source": "### Estimates based on percentiles",
   "id": "60d28fa2bb3fb1e2"
  },
  {
   "metadata": {},
   "cell_type": "markdown",
   "source": [
    "The pth percentile is a value that is equal to or greater than p-percent of an ordered list.A commom estimate of variability is IQR (interquartile range), which is the difference bettween the 75th and 25th.$$Percentil(P) = (1 - w)*x[j] + w*x[j+1]$$where:$$w = k - j$$$$k = \\frac{p}{100}\n",
    "*(n - 1)$$$$j = int(k)$$w represents the fractional percentile position (p) between two adjacent numbers."
   ],
   "id": "2c3fdd86f2cd721"
  },
  {
   "metadata": {},
   "cell_type": "markdown",
   "source": "### Example: Variability Estimates of Brazil Demographic Data",
   "id": "c13283cf6eabbb5b"
  },
  {
   "metadata": {
    "ExecuteTime": {
     "end_time": "2024-12-08T12:48:59.865560Z",
     "start_time": "2024-12-08T12:48:59.855952Z"
    }
   },
   "cell_type": "code",
   "source": "data['Age'].std()",
   "id": "bceb3a9531ad1503",
   "outputs": [
    {
     "data": {
      "text/plain": [
       "12.480583465360187"
      ]
     },
     "execution_count": 8,
     "metadata": {},
     "output_type": "execute_result"
    }
   ],
   "execution_count": 8
  },
  {
   "metadata": {
    "ExecuteTime": {
     "end_time": "2024-12-08T12:49:00.119339Z",
     "start_time": "2024-12-08T12:49:00.104152Z"
    }
   },
   "cell_type": "code",
   "source": [
    "IQR = data['Age'].quantile(0.75) - data['Age'].quantile(0.25)\n",
    "IQR"
   ],
   "id": "960763cdd0305ff0",
   "outputs": [
    {
     "data": {
      "text/plain": [
       "19.0"
      ]
     },
     "execution_count": 9,
     "metadata": {},
     "output_type": "execute_result"
    }
   ],
   "execution_count": 9
  },
  {
   "metadata": {
    "ExecuteTime": {
     "end_time": "2024-12-08T12:49:00.434512Z",
     "start_time": "2024-12-08T12:49:00.323657Z"
    }
   },
   "cell_type": "code",
   "source": [
    "from statsmodels.robust.scale import mad as smad\n",
    "smad(data['Salary'])"
   ],
   "id": "5a243a17210483a0",
   "outputs": [
    {
     "data": {
      "text/plain": [
       "815.431220178081"
      ]
     },
     "execution_count": 10,
     "metadata": {},
     "output_type": "execute_result"
    }
   ],
   "execution_count": 10
  },
  {
   "metadata": {},
   "cell_type": "markdown",
   "source": "## Exploring the Data Distribution",
   "id": "68a35ad5e3e10778"
  },
  {
   "metadata": {},
   "cell_type": "markdown",
   "source": [
    "Variability estimates are a summary in a single number, it is also useful to explore the distribution of the data.\n",
    "Common -> Quartiles and deciles."
   ],
   "id": "b099fac60b4c6875"
  },
  {
   "metadata": {
    "ExecuteTime": {
     "end_time": "2024-12-08T12:49:00.652152Z",
     "start_time": "2024-12-08T12:49:00.640378Z"
    }
   },
   "cell_type": "code",
   "source": "data['Age'].quantile([0.05, 0.25, 0.5, 0.75, 0.95])",
   "id": "b3b5ebc383ff4223",
   "outputs": [
    {
     "data": {
      "text/plain": [
       "0.05    25.0\n",
       "0.25    34.0\n",
       "0.50    43.0\n",
       "0.75    53.0\n",
       "0.95    65.0\n",
       "Name: Age, dtype: float64"
      ]
     },
     "execution_count": 11,
     "metadata": {},
     "output_type": "execute_result"
    }
   ],
   "execution_count": 11
  },
  {
   "metadata": {
    "ExecuteTime": {
     "end_time": "2024-12-08T12:49:01.183763Z",
     "start_time": "2024-12-08T12:49:00.905359Z"
    }
   },
   "cell_type": "code",
   "source": [
    "plt.figure(figsize=(12,6))\n",
    "data['Age'].plot(kind='box')\n",
    "plt.title('Age distribution')\n",
    "plt.show()"
   ],
   "id": "71b0c8f69d829b4c",
   "outputs": [
    {
     "data": {
      "text/plain": [
       "<Figure size 1200x600 with 1 Axes>"
      ],
      "image/png": "[encoded data removed]"
     },
     "metadata": {},
     "output_type": "display_data"
    }
   ],
   "execution_count": 12
  },
  {
   "metadata": {},
   "cell_type": "markdown",
   "source": "The boxplot graph shows us how the data is distributed, the box is defined with 25th (Q1), 50th (Q2) and 75th (Q3) representing 50% of the values, the upper and lower limits are defined by Q3 + 1.5 * IQR and Q1 - 1.5 * IQR respectively, and the single points outside the limits represent the outliers.\n",
   "id": "897b918aef3dfa5a"
  },
  {
   "metadata": {},
   "cell_type": "markdown",
   "source": "## Frequency tables and histograms",
   "id": "c74d3789ea610b1f"
  },
  {
   "metadata": {},
   "cell_type": "markdown",
   "source": "The frequency table divides the data into equally spaced intervals (bins) and counts how many values are within each bin.",
   "id": "ffcb37abb57f6161"
  },
  {
   "metadata": {
    "ExecuteTime": {
     "end_time": "2024-12-08T12:49:01.248596Z",
     "start_time": "2024-12-08T12:49:01.226558Z"
    }
   },
   "cell_type": "code",
   "source": "until_20k_salary = data.query(\"Salary >= 0 and Salary <= 20000\")",
   "id": "91d60239d4f1da12",
   "outputs": [],
   "execution_count": 13
  },
  {
   "metadata": {
    "ExecuteTime": {
     "end_time": "2024-12-08T12:49:01.343064Z",
     "start_time": "2024-12-08T12:49:01.307795Z"
    }
   },
   "cell_type": "code",
   "source": [
    "binnedIncomes = pd.cut(until_20k_salary['Salary'], 25)\n",
    "binnedIncomes.value_counts().sort_index()"
   ],
   "id": "8c12ae4944c8c4f0",
   "outputs": [
    {
     "data": {
      "text/plain": [
       "Salary\n",
       "(-20.0, 800.0]        24998\n",
       "(800.0, 1600.0]       26231\n",
       "(1600.0, 2400.0]       9614\n",
       "(2400.0, 3200.0]       5870\n",
       "(3200.0, 4000.0]       3086\n",
       "(4000.0, 4800.0]        748\n",
       "(4800.0, 5600.0]       1901\n",
       "(5600.0, 6400.0]        792\n",
       "(6400.0, 7200.0]        657\n",
       "(7200.0, 8000.0]        669\n",
       "(8000.0, 8800.0]         69\n",
       "(8800.0, 9600.0]        191\n",
       "(9600.0, 10400.0]       651\n",
       "(10400.0, 11200.0]      106\n",
       "(11200.0, 12000.0]      221\n",
       "(12000.0, 12800.0]       14\n",
       "(12800.0, 13600.0]       71\n",
       "(13600.0, 14400.0]       66\n",
       "(14400.0, 15200.0]      267\n",
       "(15200.0, 16000.0]       87\n",
       "(16000.0, 16800.0]        4\n",
       "(16800.0, 17600.0]       35\n",
       "(17600.0, 18400.0]       51\n",
       "(18400.0, 19200.0]       20\n",
       "(19200.0, 20000.0]      162\n",
       "Name: count, dtype: int64"
      ]
     },
     "execution_count": 14,
     "metadata": {},
     "output_type": "execute_result"
    }
   ],
   "execution_count": 14
  },
  {
   "metadata": {},
   "cell_type": "markdown",
   "source": "A histogram is a visual way to represents a frequency table, with the bins on he x-axis and the count on the y-axis. *OBS: The bars are continuous - empty spaces represents an empty bin. *Extra: Skewness refer to whether the data is assimetric (up or down) and kurtosis indicates the propensity of the data to have outliers.",
   "id": "70c81795555d18e8"
  },
  {
   "metadata": {
    "ExecuteTime": {
     "end_time": "2024-12-08T12:49:01.832494Z",
     "start_time": "2024-12-08T12:49:01.628839Z"
    }
   },
   "cell_type": "code",
   "source": [
    "plt.figure(figsize=(12,6))\n",
    "until_20k_salary['Salary'].plot(kind='hist', bins=25)\n",
    "plt.title('Salary distribution')\n",
    "plt.xlabel('Salary')\n",
    "plt.ylabel('Count')\n",
    "plt.show()"
   ],
   "id": "1e4dcc16a2264331",
   "outputs": [
    {
     "data": {
      "text/plain": [
       "<Figure size 1200x600 with 1 Axes>"
      ],
      "image/png": "[encoded data removed]"
     },
     "metadata": {},
     "output_type": "display_data"
    }
   ],
   "execution_count": 15
  },
  {
   "metadata": {},
   "cell_type": "markdown",
   "source": "## Density Plots and Estimates",
   "id": "b29e59bdee4e3ced"
  },
  {
   "metadata": {},
   "cell_type": "markdown",
   "source": [
    "A density plot shows the distribution of the data as a continuous line. Is typically computed a KDE (Kernel Density Estimate) <br>\n",
    "The density represents the probability of a value lies in a range of values (Concentration of values in a region of the graph).<br>\n",
    "The area below the line is equal to 1 -> P = 100% (all data).<br>\n",
    "$$\n",
    "\\int_{a}^{b} f(x)\\, dx = 1   \n",
    "$$\n",
    "\n",
    "$$\n",
    "d(x) = P(xi) = y\n",
    "$$\n",
    "for:\n",
    "$$\n",
    "x - a <= x <= x + a\n",
    "$$\n",
    "\n",
    "The KDE - Gaussian density can be calculated by: <br>\n",
    "$$\n",
    "\\hat{f}_h(x) = \\frac{1}{n h} \\sum_{i=1}^{n} \\phi \\left( \\frac{x - x_i}{h} \\right)\n",
    "$$\n",
    "\n",
    "$$\n",
    "\\phi(u) = \\frac{1}{\\sqrt{2 \\pi}} e^{- \\frac{1}{2} u^2}\n",
    "$$"
   ],
   "id": "d0bc505f5950846f"
  },
  {
   "metadata": {
    "ExecuteTime": {
     "end_time": "2024-12-08T12:49:04.769021Z",
     "start_time": "2024-12-08T12:49:01.878345Z"
    }
   },
   "cell_type": "code",
   "source": [
    "plt.figure(figsize=(12,6))\n",
    "until_20k_salary['Salary'].plot(\n",
    "    kind='hist', bins=25, density=True\n",
    ")\n",
    "until_20k_salary['Salary'].plot(\n",
    "    kind='kde', color='red', linewidth=2\n",
    ")\n",
    "plt.xlim(left=0, right=20000)\n",
    "plt.title('Salary distribution - KDE')\n",
    "plt.xlabel('Salary')\n",
    "plt.ylabel('Density')\n",
    "plt.show()"
   ],
   "id": "5fc55eabaefc553a",
   "outputs": [
    {
     "data": {
      "text/plain": [
       "<Figure size 1200x600 with 1 Axes>"
      ],
      "image/png": "[encoded data removed]"
     },
     "metadata": {},
     "output_type": "display_data"
    }
   ],
   "execution_count": 16
  },
  {
   "metadata": {},
   "cell_type": "markdown",
   "source": "# Exploring Binary and Categorical Data",
   "id": "e89a7fc16859a77"
  },
  {
   "metadata": {},
   "cell_type": "markdown",
   "source": [
    "For binary and categorical data, a proportions, percentages and counts tell the story of the data. To represent this data format, the bar chart is a good choice, the x-axis represents different categories of a variable and the y-axis represents the count, the bars are separated from on another. <br>\n",
    "*A histogram represents the distribution of a continuous numeric variable."
   ],
   "id": "72b1a0b118b87a74"
  },
  {
   "metadata": {
    "ExecuteTime": {
     "end_time": "2024-12-08T12:49:04.825024Z",
     "start_time": "2024-12-08T12:49:04.808936Z"
    }
   },
   "cell_type": "code",
   "source": [
    "data2 = pd.DataFrame(\n",
    "    {\n",
    "        'delayed_cause': ['Carrier', 'ATC', 'Weather', 'Security', 'Inbound'],\n",
    "        'percentage': [23.02, 30.40, 4.03, 0.12, 42.43]\n",
    "    }\n",
    ")\n",
    "data2"
   ],
   "id": "9fa68d11b89def4e",
   "outputs": [
    {
     "data": {
      "text/plain": [
       "  delayed_cause  percentage\n",
       "0       Carrier       23.02\n",
       "1           ATC       30.40\n",
       "2       Weather        4.03\n",
       "3      Security        0.12\n",
       "4       Inbound       42.43"
      ],
      "text/html": [
       "<div>\n",
       "<style scoped>\n",
       "    .dataframe tbody tr th:only-of-type {\n",
       "        vertical-align: middle;\n",
       "    }\n",
       "\n",
       "    .dataframe tbody tr th {\n",
       "        vertical-align: top;\n",
       "    }\n",
       "\n",
       "    .dataframe thead th {\n",
       "        text-align: right;\n",
       "    }\n",
       "</style>\n",
       "<table border=\"1\" class=\"dataframe\">\n",
       "  <thead>\n",
       "    <tr style=\"text-align: right;\">\n",
       "      <th></th>\n",
       "      <th>delayed_cause</th>\n",
       "      <th>percentage</th>\n",
       "    </tr>\n",
       "  </thead>\n",
       "  <tbody>\n",
       "    <tr>\n",
       "      <th>0</th>\n",
       "      <td>Carrier</td>\n",
       "      <td>23.02</td>\n",
       "    </tr>\n",
       "    <tr>\n",
       "      <th>1</th>\n",
       "      <td>ATC</td>\n",
       "      <td>30.40</td>\n",
       "    </tr>\n",
       "    <tr>\n",
       "      <th>2</th>\n",
       "      <td>Weather</td>\n",
       "      <td>4.03</td>\n",
       "    </tr>\n",
       "    <tr>\n",
       "      <th>3</th>\n",
       "      <td>Security</td>\n",
       "      <td>0.12</td>\n",
       "    </tr>\n",
       "    <tr>\n",
       "      <th>4</th>\n",
       "      <td>Inbound</td>\n",
       "      <td>42.43</td>\n",
       "    </tr>\n",
       "  </tbody>\n",
       "</table>\n",
       "</div>"
      ]
     },
     "execution_count": 17,
     "metadata": {},
     "output_type": "execute_result"
    }
   ],
   "execution_count": 17
  },
  {
   "metadata": {
    "ExecuteTime": {
     "end_time": "2024-12-08T12:49:05.300134Z",
     "start_time": "2024-12-08T12:49:05.128516Z"
    }
   },
   "cell_type": "code",
   "source": [
    "data2.plot(\n",
    "    kind='bar', x='delayed_cause', y='percentage',\n",
    "    figsize=(12,6), legend=False\n",
    ")\n",
    "plt.xlabel('Delayed Cause')\n",
    "plt.ylabel('Percentage')\n",
    "plt.show()"
   ],
   "id": "eaf57a94394aa12d",
   "outputs": [
    {
     "data": {
      "text/plain": [
       "<Figure size 1200x600 with 1 Axes>"
      ],
      "image/png": "[encoded data removed]"
     },
     "metadata": {},
     "output_type": "display_data"
    }
   ],
   "execution_count": 18
  },
  {
   "metadata": {},
   "cell_type": "markdown",
   "source": "## Mode",
   "id": "46c196833d94204e"
  },
  {
   "metadata": {},
   "cell_type": "markdown",
   "source": "The mode is the value that appears most often in the data. It is generally most used for categorical data as a simple summary.",
   "id": "128c01f790fc21af"
  },
  {
   "metadata": {
    "ExecuteTime": {
     "end_time": "2024-12-08T12:49:05.408515Z",
     "start_time": "2024-12-08T12:49:05.383883Z"
    }
   },
   "cell_type": "code",
   "source": "data[['State', 'Age']].mode()",
   "id": "2ab4a616f37da0a8",
   "outputs": [
    {
     "data": {
      "text/plain": [
       "   State  Age\n",
       "0     35   40"
      ],
      "text/html": [
       "<div>\n",
       "<style scoped>\n",
       "    .dataframe tbody tr th:only-of-type {\n",
       "        vertical-align: middle;\n",
       "    }\n",
       "\n",
       "    .dataframe tbody tr th {\n",
       "        vertical-align: top;\n",
       "    }\n",
       "\n",
       "    .dataframe thead th {\n",
       "        text-align: right;\n",
       "    }\n",
       "</style>\n",
       "<table border=\"1\" class=\"dataframe\">\n",
       "  <thead>\n",
       "    <tr style=\"text-align: right;\">\n",
       "      <th></th>\n",
       "      <th>State</th>\n",
       "      <th>Age</th>\n",
       "    </tr>\n",
       "  </thead>\n",
       "  <tbody>\n",
       "    <tr>\n",
       "      <th>0</th>\n",
       "      <td>35</td>\n",
       "      <td>40</td>\n",
       "    </tr>\n",
       "  </tbody>\n",
       "</table>\n",
       "</div>"
      ]
     },
     "execution_count": 19,
     "metadata": {},
     "output_type": "execute_result"
    }
   ],
   "execution_count": 19
  },
  {
   "metadata": {},
   "cell_type": "markdown",
   "source": "## Expected Value",
   "id": "1d9e2e49d313a130"
  },
  {
   "metadata": {},
   "cell_type": "markdown",
   "source": "The expected value is a summary based on the probabilities of occurrences of categorical values.",
   "id": "bff5609a3c09f1a7"
  },
  {
   "metadata": {
    "ExecuteTime": {
     "end_time": "2024-12-08T12:49:05.614418Z",
     "start_time": "2024-12-08T12:49:05.595318Z"
    }
   },
   "cell_type": "code",
   "source": [
    "data = {\n",
    "    'Product': ['Normal', 'Plus', 'Enterprise'],\n",
    "    'Price': [10.0, 50.0, 100.0],\n",
    "    'SignUp': [0.3, 0.15, 0.05]\n",
    "}\n",
    "df = pd.DataFrame(data)\n",
    "df"
   ],
   "id": "f432978675ad4559",
   "outputs": [
    {
     "data": {
      "text/plain": [
       "      Product  Price  SignUp\n",
       "0      Normal   10.0    0.30\n",
       "1        Plus   50.0    0.15\n",
       "2  Enterprise  100.0    0.05"
      ],
      "text/html": [
       "<div>\n",
       "<style scoped>\n",
       "    .dataframe tbody tr th:only-of-type {\n",
       "        vertical-align: middle;\n",
       "    }\n",
       "\n",
       "    .dataframe tbody tr th {\n",
       "        vertical-align: top;\n",
       "    }\n",
       "\n",
       "    .dataframe thead th {\n",
       "        text-align: right;\n",
       "    }\n",
       "</style>\n",
       "<table border=\"1\" class=\"dataframe\">\n",
       "  <thead>\n",
       "    <tr style=\"text-align: right;\">\n",
       "      <th></th>\n",
       "      <th>Product</th>\n",
       "      <th>Price</th>\n",
       "      <th>SignUp</th>\n",
       "    </tr>\n",
       "  </thead>\n",
       "  <tbody>\n",
       "    <tr>\n",
       "      <th>0</th>\n",
       "      <td>Normal</td>\n",
       "      <td>10.0</td>\n",
       "      <td>0.30</td>\n",
       "    </tr>\n",
       "    <tr>\n",
       "      <th>1</th>\n",
       "      <td>Plus</td>\n",
       "      <td>50.0</td>\n",
       "      <td>0.15</td>\n",
       "    </tr>\n",
       "    <tr>\n",
       "      <th>2</th>\n",
       "      <td>Enterprise</td>\n",
       "      <td>100.0</td>\n",
       "      <td>0.05</td>\n",
       "    </tr>\n",
       "  </tbody>\n",
       "</table>\n",
       "</div>"
      ]
     },
     "execution_count": 20,
     "metadata": {},
     "output_type": "execute_result"
    }
   ],
   "execution_count": 20
  },
  {
   "metadata": {
    "ExecuteTime": {
     "end_time": "2024-12-08T12:49:05.842664Z",
     "start_time": "2024-12-08T12:49:05.833941Z"
    }
   },
   "cell_type": "code",
   "source": [
    "values = data['Price']\n",
    "probabilities = data['SignUp']\n",
    "ev = sum(v * p for v, p in zip(values, probabilities))\n",
    "ev"
   ],
   "id": "959f1ee9f7e41b6c",
   "outputs": [
    {
     "data": {
      "text/plain": [
       "15.5"
      ]
     },
     "execution_count": 21,
     "metadata": {},
     "output_type": "execute_result"
    }
   ],
   "execution_count": 21
  },
  {
   "metadata": {},
   "cell_type": "markdown",
   "source": "## Correlation",
   "id": "7395ce18f130426c"
  },
  {
   "metadata": {},
   "cell_type": "markdown",
   "source": "",
   "id": "97b8d5664c6c843c"
  },
  {
   "metadata": {},
   "cell_type": "code",
   "outputs": [],
   "execution_count": null,
   "source": "",
   "id": "1eed6d5e50783e99"
  },
  {
   "metadata": {},
   "cell_type": "markdown",
   "source": "### Scatterplots",
   "id": "f42f837a402fac29"
  },
  {
   "metadata": {},
   "cell_type": "markdown",
   "source": "",
   "id": "aa8ea2b67723dd59"
  },
  {
   "metadata": {},
   "cell_type": "code",
   "outputs": [],
   "execution_count": null,
   "source": "",
   "id": "4ef259b317407711"
  }
 ],
 "metadata": {
  "kernelspec": {
   "display_name": "Python 3 (ipykernel)",
   "language": "python",
   "name": "python3"
  },
  "language_info": {
   "codemirror_mode": {
    "name": "ipython",
    "version": 3
   },
   "file_extension": ".py",
   "mimetype": "text/x-python",
   "name": "python",
   "nbconvert_exporter": "python",
   "pygments_lexer": "ipython3",
   "version": "3.12.5"
  }
 },
 "nbformat": 4,
 "nbformat_minor": 5
}
