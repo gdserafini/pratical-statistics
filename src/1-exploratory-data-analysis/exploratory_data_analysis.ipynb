{
 "cells": [
  {
   "cell_type": "markdown",
   "id": "09ac0d3c-1c35-4479-89cf-c334736ed14e",
   "metadata": {},
   "source": [
    "# Elements of structured data"
   ]
  },
  {
   "cell_type": "markdown",
   "id": "14432918-d32c-4db6-adad-089f0aa779e1",
   "metadata": {},
   "source": [
    "There are two basic types of structured data:\n",
    "## Numeric\n",
    "* Continuous -> Can take infinite values in an interval (measurement/inference);\n",
    "* Discrete -> Only ordered integer values (count).\n",
    "## Categorical\n",
    "* Nominal -> Classifies without order (classes);\n",
    "* Ordinal -> Sorts in order (e.g. hierarchy);\n",
    "* Binary -> Can take 2 values - 0/1, true/false."
   ]
  },
  {
   "cell_type": "markdown",
   "id": "bab84dc2-3b56-4eb2-87d1-cbd3e2925e9b",
   "metadata": {},
   "source": [
    "Pandas data types: https://oreil.ly/UGX-4 <br>\n",
    "SQL data types: https://oreil.ly/cThTM"
   ]
  },
  {
   "metadata": {},
   "cell_type": "markdown",
   "source": [
    "## Rectangular data\n",
    "The most important data structure in data science is the rectangular (tabular), in this case, a two-dimensional matrix with rows (records) and columns (variables) with an index to identify the record. <br>\n",
    "In an analysis there a feature (inputs to analyze) and outcomes (analysis results/predict). <br>\n",
    "But, in some cases, the data could be nonrectangular like time series, spatial data structures, graphs..."
   ],
   "id": "40768ed72d3fd8f4"
  },
  {
   "metadata": {},
   "cell_type": "markdown",
   "source": "## Estimates of location",
   "id": "49fbf0f25f236fda"
  },
  {
   "metadata": {},
   "cell_type": "markdown",
   "source": [
    "### Mean\n",
    "The most basic estimate value is the mean, the sum of all values divided by the number of values.\n",
    "$$\n",
    "x = \\frac{\\sum_{i=1}^{n} xi}{n}\n",
    "$$\n",
    "* NOTE: The x represents the average of the entire population and xbar of the sample. Just as N represents the number of values in the population and n in the sample. <br>\n",
    "\n",
    "The weighted mean is the sum of all values multiplied by their weights divided by the sum of weights. Is useful when some value is more variable than other or some group is underrepresented.\n",
    "$$\n",
    "xw = \\frac{\\sum_{i=1}^{n} xi*wi}{\\sum_{i=1}^{n} wi}\n",
    "$$\n",
    "The trimmed mean is mean without the p-smallest and p-biggest values (sorted). This is estimate eliminates the influence of extreme values.\n",
    "$$\n",
    "xt = \\frac{\\sum_{i=p+1}^{n-p} xi}{n - 2p}\n",
    "$$\n",
    "Trimmed weighted mean:\n",
    "$$\n",
    "xt = \\frac{\\sum_{i=p+1}^{n-p} xi * wi}{\\sum_{i=p+1}^{n-p} wi}\n",
    "$$\n"
   ],
   "id": "a4bbf5f593bbd745"
  },
  {
   "metadata": {},
   "cell_type": "markdown",
   "source": "### Median and robust estimates ...",
   "id": "fcde5ebf04321e23"
  },
  {
   "metadata": {},
   "cell_type": "code",
   "outputs": [],
   "execution_count": null,
   "source": "",
   "id": "94ac3cef0458ebad"
  }
 ],
 "metadata": {
  "kernelspec": {
   "display_name": "Python 3 (ipykernel)",
   "language": "python",
   "name": "python3"
  },
  "language_info": {
   "codemirror_mode": {
    "name": "ipython",
    "version": 3
   },
   "file_extension": ".py",
   "mimetype": "text/x-python",
   "name": "python",
   "nbconvert_exporter": "python",
   "pygments_lexer": "ipython3",
   "version": "3.12.5"
  }
 },
 "nbformat": 4,
 "nbformat_minor": 5
}
