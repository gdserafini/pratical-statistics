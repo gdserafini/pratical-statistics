{
 "cells": [
  {
   "metadata": {},
   "cell_type": "markdown",
   "source": "# Linear Algebra - Chapter 4 (Data Science From Scratch)",
   "id": "f804d8cc2b5cdc99"
  },
  {
   "metadata": {
    "ExecuteTime": {
     "end_time": "2024-12-08T16:11:23.018203Z",
     "start_time": "2024-12-08T16:11:22.494112Z"
    }
   },
   "cell_type": "code",
   "source": "import numpy as np",
   "id": "8854f9d1957f154a",
   "outputs": [],
   "execution_count": 1
  },
  {
   "metadata": {},
   "cell_type": "markdown",
   "source": "# Vector",
   "id": "656aa7519c796cb9"
  },
  {
   "metadata": {},
   "cell_type": "markdown",
   "source": [
    "Vectors are line segments used to represent a vector space, which is an oriented line segment with magnitude, direction and direction. A vector is represented with three coordinates, x, y and z. <br>\n",
    "We can also think of a vector as a list, as attributes, a column, a 3d space vector, etc."
   ],
   "id": "722961b8a6a49663"
  },
  {
   "metadata": {
    "ExecuteTime": {
     "end_time": "2024-12-08T16:11:23.050278Z",
     "start_time": "2024-12-08T16:11:23.043805Z"
    }
   },
   "cell_type": "code",
   "source": [
    "vector_3d = np.array([1,2,3]) #space vector\n",
    "grades = np.array([4,5,5,6,7,8,10])\n",
    "person_attr = np.array([1.75, 70, 24]) #h, w, age"
   ],
   "id": "9756f89434da50e8",
   "outputs": [],
   "execution_count": 2
  },
  {
   "metadata": {
    "ExecuteTime": {
     "end_time": "2024-12-08T16:11:23.088655Z",
     "start_time": "2024-12-08T16:11:23.074875Z"
    }
   },
   "cell_type": "code",
   "source": "np.array([1,2,3]) + np.array([4,5,6])",
   "id": "a9389471800018e1",
   "outputs": [
    {
     "data": {
      "text/plain": [
       "array([5, 7, 9])"
      ]
     },
     "execution_count": 3,
     "metadata": {},
     "output_type": "execute_result"
    }
   ],
   "execution_count": 3
  },
  {
   "metadata": {
    "ExecuteTime": {
     "end_time": "2024-12-08T16:11:24.910321Z",
     "start_time": "2024-12-08T16:11:24.903295Z"
    }
   },
   "cell_type": "code",
   "source": "np.array([1,2,3]) - np.array([4,5,6])",
   "id": "bd24d89983531deb",
   "outputs": [
    {
     "data": {
      "text/plain": [
       "array([-3, -3, -3])"
      ]
     },
     "execution_count": 4,
     "metadata": {},
     "output_type": "execute_result"
    }
   ],
   "execution_count": 4
  },
  {
   "metadata": {
    "ExecuteTime": {
     "end_time": "2024-12-08T16:11:25.013906Z",
     "start_time": "2024-12-08T16:11:25.007187Z"
    }
   },
   "cell_type": "code",
   "source": "np.array([1,2,3]) * 4",
   "id": "dedd6deb3bb41cf9",
   "outputs": [
    {
     "data": {
      "text/plain": [
       "array([ 4,  8, 12])"
      ]
     },
     "execution_count": 5,
     "metadata": {},
     "output_type": "execute_result"
    }
   ],
   "execution_count": 5
  },
  {
   "metadata": {
    "ExecuteTime": {
     "end_time": "2024-12-08T16:11:25.213120Z",
     "start_time": "2024-12-08T16:11:25.202013Z"
    }
   },
   "cell_type": "code",
   "source": "(np.array([1,2,3]) + np.array([4,5,6]))/2",
   "id": "9130f8de9b3ef618",
   "outputs": [
    {
     "data": {
      "text/plain": [
       "array([2.5, 3.5, 4.5])"
      ]
     },
     "execution_count": 6,
     "metadata": {},
     "output_type": "execute_result"
    }
   ],
   "execution_count": 6
  }
 ],
 "metadata": {
  "kernelspec": {
   "display_name": "Python 3",
   "language": "python",
   "name": "python3"
  },
  "language_info": {
   "codemirror_mode": {
    "name": "ipython",
    "version": 2
   },
   "file_extension": ".py",
   "mimetype": "text/x-python",
   "name": "python",
   "nbconvert_exporter": "python",
   "pygments_lexer": "ipython2",
   "version": "2.7.6"
  }
 },
 "nbformat": 4,
 "nbformat_minor": 5
}
