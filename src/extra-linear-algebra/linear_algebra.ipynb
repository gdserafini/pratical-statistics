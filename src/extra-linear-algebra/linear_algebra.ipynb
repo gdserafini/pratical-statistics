{
 "cells": [
  {
   "metadata": {},
   "cell_type": "markdown",
   "source": [
    "# Linear Algebra - Chapter 4 (Data Science From Scratch)<br>",
    "TODO -> Add theory."
   ],
   "id": "f804d8cc2b5cdc99"
  },
  {
   "metadata": {
    "ExecuteTime": {
     "end_time": "2024-10-28T21:41:58.855970Z",
     "start_time": "2024-10-28T21:41:58.849905Z"
    }
   },
   "cell_type": "code",
   "source": "import numpy as np",
   "id": "8854f9d1957f154a",
   "outputs": [],
   "execution_count": 5
  },
  {
   "metadata": {},
   "cell_type": "markdown",
   "source": "# Vector",
   "id": "656aa7519c796cb9"
  },
  {
   "metadata": {},
   "cell_type": "markdown",
   "source": "Vectors are line segments used to represent a vector space, which is an oriented line segment with magnitude, direction and direction. A vector is represented with three coordinates, x, y and z.",
   "id": "722961b8a6a49663"
  },
  {
   "metadata": {
    "ExecuteTime": {
     "end_time": "2024-10-28T21:41:58.895669Z",
     "start_time": "2024-10-28T21:41:58.887768Z"
    }
   },
   "cell_type": "code",
   "source": [
    "vector1 = np.array([1,2,3])\n",
    "vector2 = np.array([4,5,6])\n",
    "vector3 = np.array([7,8,9])"
   ],
   "id": "9756f89434da50e8",
   "outputs": [],
   "execution_count": 6
  },
  {
   "metadata": {
    "ExecuteTime": {
     "end_time": "2024-10-28T21:41:59.221063Z",
     "start_time": "2024-10-28T21:41:59.211962Z"
    }
   },
   "cell_type": "code",
   "source": "vector1 + vector2 + vector3",
   "id": "e31ab77174642969",
   "outputs": [
    {
     "data": {
      "text/plain": [
       "array([12, 15, 18])"
      ]
     },
     "execution_count": 7,
     "metadata": {},
     "output_type": "execute_result"
    }
   ],
   "execution_count": 7
  },
  {
   "metadata": {
    "ExecuteTime": {
     "end_time": "2024-10-28T21:41:59.547013Z",
     "start_time": "2024-10-28T21:41:59.535737Z"
    }
   },
   "cell_type": "code",
   "source": "vector1 - vector2 - vector3",
   "id": "ffcb968db42e2369",
   "outputs": [
    {
     "data": {
      "text/plain": [
       "array([-10, -11, -12])"
      ]
     },
     "execution_count": 8,
     "metadata": {},
     "output_type": "execute_result"
    }
   ],
   "execution_count": 8
  }
 ],
 "metadata": {
  "kernelspec": {
   "display_name": "Python 3",
   "language": "python",
   "name": "python3"
  },
  "language_info": {
   "codemirror_mode": {
    "name": "ipython",
    "version": 2
   },
   "file_extension": ".py",
   "mimetype": "text/x-python",
   "name": "python",
   "nbconvert_exporter": "python",
   "pygments_lexer": "ipython2",
   "version": "2.7.6"
  }
 },
 "nbformat": 4,
 "nbformat_minor": 5
}
