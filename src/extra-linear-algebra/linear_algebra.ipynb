{
 "cells": [
  {
   "metadata": {},
   "cell_type": "markdown",
   "source": "# Linear Algebra - Chapter 4 (Data Science From Scratch)",
   "id": "f804d8cc2b5cdc99"
  },
  {
   "metadata": {
    "ExecuteTime": {
     "end_time": "2024-12-14T17:53:27.341852Z",
     "start_time": "2024-12-14T17:53:26.795135Z"
    }
   },
   "cell_type": "code",
   "source": "import numpy as np",
   "id": "8854f9d1957f154a",
   "outputs": [],
   "execution_count": 1
  },
  {
   "metadata": {},
   "cell_type": "markdown",
   "source": "# Vector",
   "id": "656aa7519c796cb9"
  },
  {
   "metadata": {},
   "cell_type": "markdown",
   "source": [
    "Vectors are line segments used to represent a vector space, which is an oriented line segment with magnitude, direction and direction. A vector is represented with three coordinates, x, y and z. <br>\n",
    "We can also think of a vector as a list, as attributes, a column, a 3d space vector, etc."
   ],
   "id": "722961b8a6a49663"
  },
  {
   "metadata": {
    "ExecuteTime": {
     "end_time": "2024-12-14T17:53:27.354853Z",
     "start_time": "2024-12-14T17:53:27.350784Z"
    }
   },
   "cell_type": "code",
   "source": [
    "vector_3d = np.array([1,2,3]) #space vector\n",
    "grades = np.array([4,5,5,6,7,8,10])\n",
    "person_attr = np.array([1.75, 70, 24]) #h, w, age"
   ],
   "id": "9756f89434da50e8",
   "outputs": [],
   "execution_count": 2
  },
  {
   "metadata": {
    "ExecuteTime": {
     "end_time": "2024-12-14T17:53:28.368571Z",
     "start_time": "2024-12-14T17:53:28.360111Z"
    }
   },
   "cell_type": "code",
   "source": "np.array([1,2,3]) + np.array([4,5,6])",
   "id": "a9389471800018e1",
   "outputs": [
    {
     "data": {
      "text/plain": [
       "array([5, 7, 9])"
      ]
     },
     "execution_count": 3,
     "metadata": {},
     "output_type": "execute_result"
    }
   ],
   "execution_count": 3
  },
  {
   "metadata": {
    "ExecuteTime": {
     "end_time": "2024-12-14T17:53:28.557320Z",
     "start_time": "2024-12-14T17:53:28.551737Z"
    }
   },
   "cell_type": "code",
   "source": "np.array([1,2,3]) - np.array([4,5,6])",
   "id": "bd24d89983531deb",
   "outputs": [
    {
     "data": {
      "text/plain": [
       "array([-3, -3, -3])"
      ]
     },
     "execution_count": 4,
     "metadata": {},
     "output_type": "execute_result"
    }
   ],
   "execution_count": 4
  },
  {
   "metadata": {
    "ExecuteTime": {
     "end_time": "2024-12-14T17:53:28.751434Z",
     "start_time": "2024-12-14T17:53:28.743168Z"
    }
   },
   "cell_type": "code",
   "source": "np.array([1,2,3]) * 4",
   "id": "dedd6deb3bb41cf9",
   "outputs": [
    {
     "data": {
      "text/plain": [
       "array([ 4,  8, 12])"
      ]
     },
     "execution_count": 5,
     "metadata": {},
     "output_type": "execute_result"
    }
   ],
   "execution_count": 5
  },
  {
   "metadata": {
    "ExecuteTime": {
     "end_time": "2024-12-14T17:53:28.940973Z",
     "start_time": "2024-12-14T17:53:28.931986Z"
    }
   },
   "cell_type": "code",
   "source": "(np.array([1,2,3]) + np.array([4,5,6]))/2",
   "id": "9130f8de9b3ef618",
   "outputs": [
    {
     "data": {
      "text/plain": [
       "array([2.5, 3.5, 4.5])"
      ]
     },
     "execution_count": 6,
     "metadata": {},
     "output_type": "execute_result"
    }
   ],
   "execution_count": 6
  },
  {
   "metadata": {
    "ExecuteTime": {
     "end_time": "2024-12-14T17:54:55.914003Z",
     "start_time": "2024-12-14T17:54:55.898846Z"
    }
   },
   "cell_type": "code",
   "source": "np.dot(np.array([1,2,3]), np.array([4,5,6]))",
   "id": "f56607a680cf838",
   "outputs": [
    {
     "data": {
      "text/plain": [
       "32"
      ]
     },
     "execution_count": 8,
     "metadata": {},
     "output_type": "execute_result"
    }
   ],
   "execution_count": 8
  },
  {
   "metadata": {},
   "cell_type": "code",
   "outputs": [],
   "execution_count": null,
   "source": "",
   "id": "af6d195089d8e9ff"
  }
 ],
 "metadata": {
  "kernelspec": {
   "display_name": "Python 3",
   "language": "python",
   "name": "python3"
  },
  "language_info": {
   "codemirror_mode": {
    "name": "ipython",
    "version": 2
   },
   "file_extension": ".py",
   "mimetype": "text/x-python",
   "name": "python",
   "nbconvert_exporter": "python",
   "pygments_lexer": "ipython2",
   "version": "2.7.6"
  }
 },
 "nbformat": 4,
 "nbformat_minor": 5
}
