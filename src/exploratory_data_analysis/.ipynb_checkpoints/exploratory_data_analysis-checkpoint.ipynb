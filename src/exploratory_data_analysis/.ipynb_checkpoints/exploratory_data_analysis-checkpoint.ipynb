{
 "cells": [
  {
   "cell_type": "markdown",
   "id": "09ac0d3c-1c35-4479-89cf-c334736ed14e",
   "metadata": {},
   "source": [
    "# Elements of structured data"
   ]
  },
  {
   "cell_type": "markdown",
   "id": "14432918-d32c-4db6-adad-089f0aa779e1",
   "metadata": {},
   "source": [
    "There are two basic types of structured data:\n",
    "## Numeric\n",
    "* Continuous -> Can take infinite values in an interval (measurement/inference);\n",
    "* Discrete -> Only ordered integer values (count).\n",
    "## Categorical\n",
    "* Nominal -> Classifies without order (classes);\n",
    "* Ordinal -> Sorts in order (e.g. hierarchy);\n",
    "* Binary -> Can take 2 values - 0/1, true/false."
   ]
  },
  {
   "cell_type": "markdown",
   "id": "bab84dc2-3b56-4eb2-87d1-cbd3e2925e9b",
   "metadata": {},
   "source": [
    "Pandas data types: https://oreil.ly/UGX-4 <br>\n",
    "SQL data types: https://oreil.ly/cThTM"
   ]
  },
  {
   "cell_type": "code",
   "execution_count": null,
   "id": "11386df9-7187-4047-8126-b10e0c12e42a",
   "metadata": {},
   "outputs": [],
   "source": []
  }
 ],
 "metadata": {
  "kernelspec": {
   "display_name": "Python 3 (ipykernel)",
   "language": "python",
   "name": "python3"
  },
  "language_info": {
   "codemirror_mode": {
    "name": "ipython",
    "version": 3
   },
   "file_extension": ".py",
   "mimetype": "text/x-python",
   "name": "python",
   "nbconvert_exporter": "python",
   "pygments_lexer": "ipython3",
   "version": "3.12.5"
  }
 },
 "nbformat": 4,
 "nbformat_minor": 5
}
