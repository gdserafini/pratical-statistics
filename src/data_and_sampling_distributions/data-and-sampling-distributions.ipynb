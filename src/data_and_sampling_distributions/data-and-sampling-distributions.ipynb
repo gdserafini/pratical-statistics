{
 "cells": [
  {
   "metadata": {},
   "cell_type": "markdown",
   "source": "# Data and Sampling Distributions",
   "id": "63ddbbd190f006e0"
  },
  {
   "metadata": {},
   "cell_type": "markdown",
   "source": "In the era of big data, sampling is very useful to understand the population with performance and velocity.",
   "id": "d22a1cc418b1992"
  },
  {
   "metadata": {},
   "cell_type": "markdown",
   "source": "## Random sampling and sample bias",
   "id": "106523be0a124da4"
  },
  {
   "metadata": {},
   "cell_type": "markdown",
   "source": [
    "A sample is a subset of the data set (population). An example of a sampling methodology is random sampling, in which each value in the population has the same probability of being selected, and can be done with or without replacement. <br>\n",
    "Note: Data quality is more important than sample size in reducing bias."
   ],
   "id": "b021b4adba1a4c39"
  },
  {
   "metadata": {},
   "cell_type": "markdown",
   "source": "## Imports",
   "id": "6c6876a8607dbb63"
  },
  {
   "metadata": {
    "ExecuteTime": {
     "end_time": "2024-12-22T14:25:30.537299Z",
     "start_time": "2024-12-22T14:25:30.533391Z"
    }
   },
   "cell_type": "code",
   "source": [
    "import pandas as pd\n",
    "import warnings\n",
    "import seaborn as sns\n",
    "from matplotlib import pyplot as plt"
   ],
   "id": "1e8b3d24bac70e91",
   "outputs": [],
   "execution_count": 1
  },
  {
   "metadata": {
    "ExecuteTime": {
     "end_time": "2024-12-22T14:25:30.572564Z",
     "start_time": "2024-12-22T14:25:30.566183Z"
    }
   },
   "cell_type": "code",
   "source": "warnings.filterwarnings('ignore')",
   "id": "7ecdec637727c794",
   "outputs": [],
   "execution_count": 2
  },
  {
   "metadata": {},
   "cell_type": "markdown",
   "source": "### Random sampling example with Loan Data",
   "id": "73270ab045956a14"
  },
  {
   "metadata": {
    "ExecuteTime": {
     "end_time": "2024-12-22T14:25:35.582903Z",
     "start_time": "2024-12-22T14:25:30.588553Z"
    }
   },
   "cell_type": "code",
   "source": [
    "df = pd.read_csv('../../datasets/loan_data_2007_2014.csv')\n",
    "df.head()"
   ],
   "id": "56eb294067f2d886",
   "outputs": [
    {
     "data": {
      "text/plain": [
       "   Unnamed: 0       id  member_id  loan_amnt  funded_amnt  funded_amnt_inv  \\\n",
       "0           0  1077501    1296599       5000         5000           4975.0   \n",
       "1           1  1077430    1314167       2500         2500           2500.0   \n",
       "2           2  1077175    1313524       2400         2400           2400.0   \n",
       "3           3  1076863    1277178      10000        10000          10000.0   \n",
       "4           4  1075358    1311748       3000         3000           3000.0   \n",
       "\n",
       "         term  int_rate  installment grade  ... total_bal_il il_util  \\\n",
       "0   36 months     10.65       162.87     B  ...          NaN     NaN   \n",
       "1   60 months     15.27        59.83     C  ...          NaN     NaN   \n",
       "2   36 months     15.96        84.33     C  ...          NaN     NaN   \n",
       "3   36 months     13.49       339.31     C  ...          NaN     NaN   \n",
       "4   60 months     12.69        67.79     B  ...          NaN     NaN   \n",
       "\n",
       "  open_rv_12m open_rv_24m  max_bal_bc all_util total_rev_hi_lim inq_fi  \\\n",
       "0         NaN         NaN         NaN      NaN              NaN    NaN   \n",
       "1         NaN         NaN         NaN      NaN              NaN    NaN   \n",
       "2         NaN         NaN         NaN      NaN              NaN    NaN   \n",
       "3         NaN         NaN         NaN      NaN              NaN    NaN   \n",
       "4         NaN         NaN         NaN      NaN              NaN    NaN   \n",
       "\n",
       "  total_cu_tl inq_last_12m  \n",
       "0         NaN          NaN  \n",
       "1         NaN          NaN  \n",
       "2         NaN          NaN  \n",
       "3         NaN          NaN  \n",
       "4         NaN          NaN  \n",
       "\n",
       "[5 rows x 75 columns]"
      ],
      "text/html": [
       "<div>\n",
       "<style scoped>\n",
       "    .dataframe tbody tr th:only-of-type {\n",
       "        vertical-align: middle;\n",
       "    }\n",
       "\n",
       "    .dataframe tbody tr th {\n",
       "        vertical-align: top;\n",
       "    }\n",
       "\n",
       "    .dataframe thead th {\n",
       "        text-align: right;\n",
       "    }\n",
       "</style>\n",
       "<table border=\"1\" class=\"dataframe\">\n",
       "  <thead>\n",
       "    <tr style=\"text-align: right;\">\n",
       "      <th></th>\n",
       "      <th>Unnamed: 0</th>\n",
       "      <th>id</th>\n",
       "      <th>member_id</th>\n",
       "      <th>loan_amnt</th>\n",
       "      <th>funded_amnt</th>\n",
       "      <th>funded_amnt_inv</th>\n",
       "      <th>term</th>\n",
       "      <th>int_rate</th>\n",
       "      <th>installment</th>\n",
       "      <th>grade</th>\n",
       "      <th>...</th>\n",
       "      <th>total_bal_il</th>\n",
       "      <th>il_util</th>\n",
       "      <th>open_rv_12m</th>\n",
       "      <th>open_rv_24m</th>\n",
       "      <th>max_bal_bc</th>\n",
       "      <th>all_util</th>\n",
       "      <th>total_rev_hi_lim</th>\n",
       "      <th>inq_fi</th>\n",
       "      <th>total_cu_tl</th>\n",
       "      <th>inq_last_12m</th>\n",
       "    </tr>\n",
       "  </thead>\n",
       "  <tbody>\n",
       "    <tr>\n",
       "      <th>0</th>\n",
       "      <td>0</td>\n",
       "      <td>1077501</td>\n",
       "      <td>1296599</td>\n",
       "      <td>5000</td>\n",
       "      <td>5000</td>\n",
       "      <td>4975.0</td>\n",
       "      <td>36 months</td>\n",
       "      <td>10.65</td>\n",
       "      <td>162.87</td>\n",
       "      <td>B</td>\n",
       "      <td>...</td>\n",
       "      <td>NaN</td>\n",
       "      <td>NaN</td>\n",
       "      <td>NaN</td>\n",
       "      <td>NaN</td>\n",
       "      <td>NaN</td>\n",
       "      <td>NaN</td>\n",
       "      <td>NaN</td>\n",
       "      <td>NaN</td>\n",
       "      <td>NaN</td>\n",
       "      <td>NaN</td>\n",
       "    </tr>\n",
       "    <tr>\n",
       "      <th>1</th>\n",
       "      <td>1</td>\n",
       "      <td>1077430</td>\n",
       "      <td>1314167</td>\n",
       "      <td>2500</td>\n",
       "      <td>2500</td>\n",
       "      <td>2500.0</td>\n",
       "      <td>60 months</td>\n",
       "      <td>15.27</td>\n",
       "      <td>59.83</td>\n",
       "      <td>C</td>\n",
       "      <td>...</td>\n",
       "      <td>NaN</td>\n",
       "      <td>NaN</td>\n",
       "      <td>NaN</td>\n",
       "      <td>NaN</td>\n",
       "      <td>NaN</td>\n",
       "      <td>NaN</td>\n",
       "      <td>NaN</td>\n",
       "      <td>NaN</td>\n",
       "      <td>NaN</td>\n",
       "      <td>NaN</td>\n",
       "    </tr>\n",
       "    <tr>\n",
       "      <th>2</th>\n",
       "      <td>2</td>\n",
       "      <td>1077175</td>\n",
       "      <td>1313524</td>\n",
       "      <td>2400</td>\n",
       "      <td>2400</td>\n",
       "      <td>2400.0</td>\n",
       "      <td>36 months</td>\n",
       "      <td>15.96</td>\n",
       "      <td>84.33</td>\n",
       "      <td>C</td>\n",
       "      <td>...</td>\n",
       "      <td>NaN</td>\n",
       "      <td>NaN</td>\n",
       "      <td>NaN</td>\n",
       "      <td>NaN</td>\n",
       "      <td>NaN</td>\n",
       "      <td>NaN</td>\n",
       "      <td>NaN</td>\n",
       "      <td>NaN</td>\n",
       "      <td>NaN</td>\n",
       "      <td>NaN</td>\n",
       "    </tr>\n",
       "    <tr>\n",
       "      <th>3</th>\n",
       "      <td>3</td>\n",
       "      <td>1076863</td>\n",
       "      <td>1277178</td>\n",
       "      <td>10000</td>\n",
       "      <td>10000</td>\n",
       "      <td>10000.0</td>\n",
       "      <td>36 months</td>\n",
       "      <td>13.49</td>\n",
       "      <td>339.31</td>\n",
       "      <td>C</td>\n",
       "      <td>...</td>\n",
       "      <td>NaN</td>\n",
       "      <td>NaN</td>\n",
       "      <td>NaN</td>\n",
       "      <td>NaN</td>\n",
       "      <td>NaN</td>\n",
       "      <td>NaN</td>\n",
       "      <td>NaN</td>\n",
       "      <td>NaN</td>\n",
       "      <td>NaN</td>\n",
       "      <td>NaN</td>\n",
       "    </tr>\n",
       "    <tr>\n",
       "      <th>4</th>\n",
       "      <td>4</td>\n",
       "      <td>1075358</td>\n",
       "      <td>1311748</td>\n",
       "      <td>3000</td>\n",
       "      <td>3000</td>\n",
       "      <td>3000.0</td>\n",
       "      <td>60 months</td>\n",
       "      <td>12.69</td>\n",
       "      <td>67.79</td>\n",
       "      <td>B</td>\n",
       "      <td>...</td>\n",
       "      <td>NaN</td>\n",
       "      <td>NaN</td>\n",
       "      <td>NaN</td>\n",
       "      <td>NaN</td>\n",
       "      <td>NaN</td>\n",
       "      <td>NaN</td>\n",
       "      <td>NaN</td>\n",
       "      <td>NaN</td>\n",
       "      <td>NaN</td>\n",
       "      <td>NaN</td>\n",
       "    </tr>\n",
       "  </tbody>\n",
       "</table>\n",
       "<p>5 rows × 75 columns</p>\n",
       "</div>"
      ]
     },
     "execution_count": 3,
     "metadata": {},
     "output_type": "execute_result"
    }
   ],
   "execution_count": 3
  },
  {
   "metadata": {
    "ExecuteTime": {
     "end_time": "2024-12-22T14:25:38.096959Z",
     "start_time": "2024-12-22T14:25:38.087063Z"
    }
   },
   "cell_type": "code",
   "source": "df.shape",
   "id": "3905d9345dab7a88",
   "outputs": [
    {
     "data": {
      "text/plain": [
       "(466285, 75)"
      ]
     },
     "execution_count": 4,
     "metadata": {},
     "output_type": "execute_result"
    }
   ],
   "execution_count": 4
  },
  {
   "metadata": {
    "ExecuteTime": {
     "end_time": "2024-12-22T14:25:38.207908Z",
     "start_time": "2024-12-22T14:25:38.184104Z"
    }
   },
   "cell_type": "code",
   "source": [
    "df_loan_amnt_mean = round(df['loan_amnt'].mean(),2)\n",
    "df_loan_amnt_mean"
   ],
   "id": "8612221ffb9ac434",
   "outputs": [
    {
     "data": {
      "text/plain": [
       "14317.28"
      ]
     },
     "execution_count": 5,
     "metadata": {},
     "output_type": "execute_result"
    }
   ],
   "execution_count": 5
  },
  {
   "metadata": {
    "ExecuteTime": {
     "end_time": "2024-12-22T14:25:38.520172Z",
     "start_time": "2024-12-22T14:25:38.439490Z"
    }
   },
   "cell_type": "code",
   "source": [
    "#Using random_state to reproducibility\n",
    "sample_df = df.sample(n=384, random_state=42)\n",
    "sample_df.head()"
   ],
   "id": "5dc4e66a19feea86",
   "outputs": [
    {
     "data": {
      "text/plain": [
       "        Unnamed: 0        id  member_id  loan_amnt  funded_amnt  \\\n",
       "362514      362514  19677589   21900299      32500        32500   \n",
       "288564      288564  29755527   32278795      11000        11000   \n",
       "213591      213591   1343334    1588314      30000        30000   \n",
       "263083      263083  33131681   35775007      14400        14400   \n",
       "165001      165001   3293168    4066358      15000        15000   \n",
       "\n",
       "        funded_amnt_inv        term  int_rate  installment grade  ...  \\\n",
       "362514          32500.0   60 months     14.99       773.01     C  ...   \n",
       "288564          11000.0   60 months     20.99       297.53     E  ...   \n",
       "213591          30000.0   36 months     14.65      1034.83     C  ...   \n",
       "263083          14400.0   60 months     14.49       338.74     C  ...   \n",
       "165001          14900.0   36 months      8.90       476.30     A  ...   \n",
       "\n",
       "       total_bal_il il_util open_rv_12m open_rv_24m  max_bal_bc all_util  \\\n",
       "362514          NaN     NaN         NaN         NaN         NaN      NaN   \n",
       "288564          NaN     NaN         NaN         NaN         NaN      NaN   \n",
       "213591          NaN     NaN         NaN         NaN         NaN      NaN   \n",
       "263083          NaN     NaN         NaN         NaN         NaN      NaN   \n",
       "165001          NaN     NaN         NaN         NaN         NaN      NaN   \n",
       "\n",
       "       total_rev_hi_lim inq_fi total_cu_tl inq_last_12m  \n",
       "362514          25100.0    NaN         NaN          NaN  \n",
       "288564          24000.0    NaN         NaN          NaN  \n",
       "213591              NaN    NaN         NaN          NaN  \n",
       "263083          17400.0    NaN         NaN          NaN  \n",
       "165001           8700.0    NaN         NaN          NaN  \n",
       "\n",
       "[5 rows x 75 columns]"
      ],
      "text/html": [
       "<div>\n",
       "<style scoped>\n",
       "    .dataframe tbody tr th:only-of-type {\n",
       "        vertical-align: middle;\n",
       "    }\n",
       "\n",
       "    .dataframe tbody tr th {\n",
       "        vertical-align: top;\n",
       "    }\n",
       "\n",
       "    .dataframe thead th {\n",
       "        text-align: right;\n",
       "    }\n",
       "</style>\n",
       "<table border=\"1\" class=\"dataframe\">\n",
       "  <thead>\n",
       "    <tr style=\"text-align: right;\">\n",
       "      <th></th>\n",
       "      <th>Unnamed: 0</th>\n",
       "      <th>id</th>\n",
       "      <th>member_id</th>\n",
       "      <th>loan_amnt</th>\n",
       "      <th>funded_amnt</th>\n",
       "      <th>funded_amnt_inv</th>\n",
       "      <th>term</th>\n",
       "      <th>int_rate</th>\n",
       "      <th>installment</th>\n",
       "      <th>grade</th>\n",
       "      <th>...</th>\n",
       "      <th>total_bal_il</th>\n",
       "      <th>il_util</th>\n",
       "      <th>open_rv_12m</th>\n",
       "      <th>open_rv_24m</th>\n",
       "      <th>max_bal_bc</th>\n",
       "      <th>all_util</th>\n",
       "      <th>total_rev_hi_lim</th>\n",
       "      <th>inq_fi</th>\n",
       "      <th>total_cu_tl</th>\n",
       "      <th>inq_last_12m</th>\n",
       "    </tr>\n",
       "  </thead>\n",
       "  <tbody>\n",
       "    <tr>\n",
       "      <th>362514</th>\n",
       "      <td>362514</td>\n",
       "      <td>19677589</td>\n",
       "      <td>21900299</td>\n",
       "      <td>32500</td>\n",
       "      <td>32500</td>\n",
       "      <td>32500.0</td>\n",
       "      <td>60 months</td>\n",
       "      <td>14.99</td>\n",
       "      <td>773.01</td>\n",
       "      <td>C</td>\n",
       "      <td>...</td>\n",
       "      <td>NaN</td>\n",
       "      <td>NaN</td>\n",
       "      <td>NaN</td>\n",
       "      <td>NaN</td>\n",
       "      <td>NaN</td>\n",
       "      <td>NaN</td>\n",
       "      <td>25100.0</td>\n",
       "      <td>NaN</td>\n",
       "      <td>NaN</td>\n",
       "      <td>NaN</td>\n",
       "    </tr>\n",
       "    <tr>\n",
       "      <th>288564</th>\n",
       "      <td>288564</td>\n",
       "      <td>29755527</td>\n",
       "      <td>32278795</td>\n",
       "      <td>11000</td>\n",
       "      <td>11000</td>\n",
       "      <td>11000.0</td>\n",
       "      <td>60 months</td>\n",
       "      <td>20.99</td>\n",
       "      <td>297.53</td>\n",
       "      <td>E</td>\n",
       "      <td>...</td>\n",
       "      <td>NaN</td>\n",
       "      <td>NaN</td>\n",
       "      <td>NaN</td>\n",
       "      <td>NaN</td>\n",
       "      <td>NaN</td>\n",
       "      <td>NaN</td>\n",
       "      <td>24000.0</td>\n",
       "      <td>NaN</td>\n",
       "      <td>NaN</td>\n",
       "      <td>NaN</td>\n",
       "    </tr>\n",
       "    <tr>\n",
       "      <th>213591</th>\n",
       "      <td>213591</td>\n",
       "      <td>1343334</td>\n",
       "      <td>1588314</td>\n",
       "      <td>30000</td>\n",
       "      <td>30000</td>\n",
       "      <td>30000.0</td>\n",
       "      <td>36 months</td>\n",
       "      <td>14.65</td>\n",
       "      <td>1034.83</td>\n",
       "      <td>C</td>\n",
       "      <td>...</td>\n",
       "      <td>NaN</td>\n",
       "      <td>NaN</td>\n",
       "      <td>NaN</td>\n",
       "      <td>NaN</td>\n",
       "      <td>NaN</td>\n",
       "      <td>NaN</td>\n",
       "      <td>NaN</td>\n",
       "      <td>NaN</td>\n",
       "      <td>NaN</td>\n",
       "      <td>NaN</td>\n",
       "    </tr>\n",
       "    <tr>\n",
       "      <th>263083</th>\n",
       "      <td>263083</td>\n",
       "      <td>33131681</td>\n",
       "      <td>35775007</td>\n",
       "      <td>14400</td>\n",
       "      <td>14400</td>\n",
       "      <td>14400.0</td>\n",
       "      <td>60 months</td>\n",
       "      <td>14.49</td>\n",
       "      <td>338.74</td>\n",
       "      <td>C</td>\n",
       "      <td>...</td>\n",
       "      <td>NaN</td>\n",
       "      <td>NaN</td>\n",
       "      <td>NaN</td>\n",
       "      <td>NaN</td>\n",
       "      <td>NaN</td>\n",
       "      <td>NaN</td>\n",
       "      <td>17400.0</td>\n",
       "      <td>NaN</td>\n",
       "      <td>NaN</td>\n",
       "      <td>NaN</td>\n",
       "    </tr>\n",
       "    <tr>\n",
       "      <th>165001</th>\n",
       "      <td>165001</td>\n",
       "      <td>3293168</td>\n",
       "      <td>4066358</td>\n",
       "      <td>15000</td>\n",
       "      <td>15000</td>\n",
       "      <td>14900.0</td>\n",
       "      <td>36 months</td>\n",
       "      <td>8.90</td>\n",
       "      <td>476.30</td>\n",
       "      <td>A</td>\n",
       "      <td>...</td>\n",
       "      <td>NaN</td>\n",
       "      <td>NaN</td>\n",
       "      <td>NaN</td>\n",
       "      <td>NaN</td>\n",
       "      <td>NaN</td>\n",
       "      <td>NaN</td>\n",
       "      <td>8700.0</td>\n",
       "      <td>NaN</td>\n",
       "      <td>NaN</td>\n",
       "      <td>NaN</td>\n",
       "    </tr>\n",
       "  </tbody>\n",
       "</table>\n",
       "<p>5 rows × 75 columns</p>\n",
       "</div>"
      ]
     },
     "execution_count": 6,
     "metadata": {},
     "output_type": "execute_result"
    }
   ],
   "execution_count": 6
  },
  {
   "metadata": {
    "ExecuteTime": {
     "end_time": "2024-12-22T14:25:38.843610Z",
     "start_time": "2024-12-22T14:25:38.837081Z"
    }
   },
   "cell_type": "code",
   "source": "sample_df.shape",
   "id": "5e4b757a7424f663",
   "outputs": [
    {
     "data": {
      "text/plain": [
       "(384, 75)"
      ]
     },
     "execution_count": 7,
     "metadata": {},
     "output_type": "execute_result"
    }
   ],
   "execution_count": 7
  },
  {
   "metadata": {
    "ExecuteTime": {
     "end_time": "2024-12-22T14:25:39.166728Z",
     "start_time": "2024-12-22T14:25:39.155186Z"
    }
   },
   "cell_type": "code",
   "source": [
    "sample_loan_amnt_mean = round(sample_df['loan_amnt'].mean(), 2)\n",
    "sample_loan_amnt_mean"
   ],
   "id": "b3ad27afae1a47c9",
   "outputs": [
    {
     "data": {
      "text/plain": [
       "14205.79"
      ]
     },
     "execution_count": 8,
     "metadata": {},
     "output_type": "execute_result"
    }
   ],
   "execution_count": 8
  },
  {
   "metadata": {
    "ExecuteTime": {
     "end_time": "2024-12-22T14:25:39.319480Z",
     "start_time": "2024-12-22T14:25:39.312906Z"
    }
   },
   "cell_type": "code",
   "source": "abs(round(1-(sample_loan_amnt_mean/df_loan_amnt_mean), 4))",
   "id": "e7e1d5e8df311311",
   "outputs": [
    {
     "data": {
      "text/plain": [
       "0.0078"
      ]
     },
     "execution_count": 9,
     "metadata": {},
     "output_type": "execute_result"
    }
   ],
   "execution_count": 9
  },
  {
   "metadata": {},
   "cell_type": "markdown",
   "source": "## Bias",
   "id": "7fca9b843b578e9a"
  },
  {
   "metadata": {},
   "cell_type": "markdown",
   "source": [
    "Bias is an error in sampling or measurement caused by a systematic - not random - error in the sampling process.<br>\n",
    "To avoid bias in the sampling process, random sampling (with/without replacement/strata) is a useful method. <br>\n",
    "_NOTE 1: In the era of big data, sampling is very useful, but it is also necessary to analyze whether it is necessary to use all the data._<br>\n",
    "_NOTE 2: The sample mean is represented by x-bar and the population mean by u._"
   ],
   "id": "303273cc1c806a88"
  },
  {
   "metadata": {},
   "cell_type": "markdown",
   "source": "## Selection Bias",
   "id": "4f8cef01131f5024"
  },
  {
   "metadata": {},
   "cell_type": "markdown",
   "source": [
    "Bias caused by the data selection process that leads to a poor representation of the population.<br>\n",
    "The target shuffling method is a permutation to test the validity of a data mining result, which in short is testing some hypothesis with different samples.<br>\n",
    "Some selection bias includes:\n",
    "* Nonrandom sampling;\n",
    "* Cherry-picking;\n",
    "* Selection that accentuate some statistics effect;\n",
    "* Biased termination of an experimentation;\n",
    "* Use the data to prove some idea rather that drawing conclusions from the data."
   ],
   "id": "15e4f7bf7875ef7f"
  },
  {
   "metadata": {},
   "cell_type": "markdown",
   "source": "### Regression to the mean",
   "id": "e267f092222039c6"
  },
  {
   "metadata": {},
   "cell_type": "markdown",
   "source": [
    "\n",
    "Statistical phenomenon where in successive measurements of a variable, the values tend to be distributed close to the mean, so when extreme values are measured, the next values will most likely be close to the mean - back to the mean."
   ],
   "id": "b0c89d96c36abe23"
  },
  {
   "metadata": {},
   "cell_type": "markdown",
   "source": "## Sampling distribution of a statistic",
   "id": "5fdf87e76924f3af"
  },
  {
   "metadata": {},
   "cell_type": "markdown",
   "source": [
    "Distribution of a statistical measure based on several samples from a population. \n",
    "Ex: Sampling distribution of mean -> Follows a normal distribution based on the population mean and variance^2.\n",
    "$$\n",
    "Normal(u, \\frac{var^2}{n})\n",
    "$$"
   ],
   "id": "a0f8b367e6230d66"
  },
  {
   "metadata": {
    "ExecuteTime": {
     "end_time": "2024-12-22T14:25:40.765251Z",
     "start_time": "2024-12-22T14:25:39.831430Z"
    }
   },
   "cell_type": "code",
   "source": [
    "SIZE = 384\n",
    "S_SIZE = 193\n",
    "sample_data = pd.DataFrame({\n",
    "    'loan_amnt': sample_df['loan_amnt'].sample(SIZE),\n",
    "    'type': 'Data'\n",
    "})\n",
    "sample_mean = pd.DataFrame({\n",
    "    'loan_amnt': [\n",
    "        sample_data['loan_amnt'].sample(S_SIZE).mean() \n",
    "        for _ in range(SIZE)\n",
    "    ],\n",
    "    'type': 'Sampling distribution of mean'\n",
    "})\n",
    "result = pd.concat([sample_data, sample_mean])\n",
    "graph = sns.FacetGrid(\n",
    "    result, col='type', col_wrap=1, height=3, aspect=4\n",
    ")\n",
    "graph.map(plt.hist, 'loan_amnt', range=[0,33000], bins=50)\n",
    "graph.set_axis_labels('Loan_Amnt', 'Count')\n",
    "graph.set_titles('{col_name}')\n",
    "plt.show()"
   ],
   "id": "304ed5c169af5c50",
   "outputs": [
    {
     "data": {
      "text/plain": [
       "<Figure size 1200x600 with 2 Axes>"
      ],
      "image/png": "[encoded data removed]"
     },
     "metadata": {},
     "output_type": "display_data"
    }
   ],
   "execution_count": 10
  },
  {
   "metadata": {},
   "cell_type": "markdown",
   "source": "",
   "id": "e34f74ce44bcd9ad"
  }
 ],
 "metadata": {
  "kernelspec": {
   "display_name": "Python 3",
   "language": "python",
   "name": "python3"
  },
  "language_info": {
   "codemirror_mode": {
    "name": "ipython",
    "version": 2
   },
   "file_extension": ".py",
   "mimetype": "text/x-python",
   "name": "python",
   "nbconvert_exporter": "python",
   "pygments_lexer": "ipython2",
   "version": "2.7.6"
  }
 },
 "nbformat": 4,
 "nbformat_minor": 5
}
