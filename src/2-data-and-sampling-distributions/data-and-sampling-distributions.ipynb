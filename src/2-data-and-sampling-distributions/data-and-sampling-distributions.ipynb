{
 "cells": [
  {
   "metadata": {},
   "cell_type": "markdown",
   "source": "# Data and Sampling Distributions",
   "id": "63ddbbd190f006e0"
  },
  {
   "metadata": {},
   "cell_type": "markdown",
   "source": "",
   "id": "d22a1cc418b1992"
  },
  {
   "metadata": {},
   "cell_type": "markdown",
   "source": "## Random sampling and sample bias",
   "id": "106523be0a124da4"
  },
  {
   "metadata": {},
   "cell_type": "markdown",
   "source": "",
   "id": "b021b4adba1a4c39"
  },
  {
   "metadata": {},
   "cell_type": "code",
   "outputs": [],
   "execution_count": null,
   "source": "",
   "id": "1e8b3d24bac70e91"
  }
 ],
 "metadata": {
  "kernelspec": {
   "display_name": "Python 3",
   "language": "python",
   "name": "python3"
  },
  "language_info": {
   "codemirror_mode": {
    "name": "ipython",
    "version": 2
   },
   "file_extension": ".py",
   "mimetype": "text/x-python",
   "name": "python",
   "nbconvert_exporter": "python",
   "pygments_lexer": "ipython2",
   "version": "2.7.6"
  }
 },
 "nbformat": 4,
 "nbformat_minor": 5
}
